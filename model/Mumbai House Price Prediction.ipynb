{
 "cells": [
  {
   "cell_type": "code",
   "execution_count": 1,
   "metadata": {},
   "outputs": [],
   "source": [
    "import pandas as pd\n",
    "import numpy as np\n",
    "from matplotlib import pyplot as plt\n",
    "%matplotlib inline\n",
    "import matplotlib\n",
    "matplotlib.rcParams[\"figure.figsize\"] = (20,10)"
   ]
  },
  {
   "cell_type": "code",
   "execution_count": 2,
   "metadata": {},
   "outputs": [
    {
     "data": {
      "text/html": [
       "<div>\n",
       "<style scoped>\n",
       "    .dataframe tbody tr th:only-of-type {\n",
       "        vertical-align: middle;\n",
       "    }\n",
       "\n",
       "    .dataframe tbody tr th {\n",
       "        vertical-align: top;\n",
       "    }\n",
       "\n",
       "    .dataframe thead th {\n",
       "        text-align: right;\n",
       "    }\n",
       "</style>\n",
       "<table border=\"1\" class=\"dataframe\">\n",
       "  <thead>\n",
       "    <tr style=\"text-align: right;\">\n",
       "      <th></th>\n",
       "      <th>Unnamed: 0</th>\n",
       "      <th>Price</th>\n",
       "      <th>Area</th>\n",
       "      <th>Location</th>\n",
       "      <th>Bedrooms</th>\n",
       "      <th>New/Resale</th>\n",
       "      <th>Gymnasium</th>\n",
       "      <th>Lift Available</th>\n",
       "      <th>Car Parking</th>\n",
       "      <th>Maintenance Staff</th>\n",
       "      <th>24x7 Security</th>\n",
       "      <th>Children Play Area</th>\n",
       "      <th>Clubhouse</th>\n",
       "      <th>Intercom</th>\n",
       "      <th>Landscaped Gardens</th>\n",
       "      <th>Indoor Games</th>\n",
       "      <th>Gas Connection</th>\n",
       "      <th>Jogging Track</th>\n",
       "      <th>Swimming Pool</th>\n",
       "    </tr>\n",
       "  </thead>\n",
       "  <tbody>\n",
       "    <tr>\n",
       "      <th>0</th>\n",
       "      <td>0</td>\n",
       "      <td>4850000</td>\n",
       "      <td>720</td>\n",
       "      <td>Kharghar</td>\n",
       "      <td>1</td>\n",
       "      <td>0</td>\n",
       "      <td>0</td>\n",
       "      <td>1</td>\n",
       "      <td>1</td>\n",
       "      <td>1</td>\n",
       "      <td>1</td>\n",
       "      <td>0</td>\n",
       "      <td>0</td>\n",
       "      <td>0</td>\n",
       "      <td>0</td>\n",
       "      <td>0</td>\n",
       "      <td>0</td>\n",
       "      <td>0</td>\n",
       "      <td>0</td>\n",
       "    </tr>\n",
       "    <tr>\n",
       "      <th>1</th>\n",
       "      <td>1</td>\n",
       "      <td>4500000</td>\n",
       "      <td>600</td>\n",
       "      <td>Kharghar</td>\n",
       "      <td>1</td>\n",
       "      <td>0</td>\n",
       "      <td>1</td>\n",
       "      <td>1</td>\n",
       "      <td>1</td>\n",
       "      <td>1</td>\n",
       "      <td>1</td>\n",
       "      <td>0</td>\n",
       "      <td>1</td>\n",
       "      <td>0</td>\n",
       "      <td>0</td>\n",
       "      <td>0</td>\n",
       "      <td>0</td>\n",
       "      <td>1</td>\n",
       "      <td>1</td>\n",
       "    </tr>\n",
       "    <tr>\n",
       "      <th>2</th>\n",
       "      <td>2</td>\n",
       "      <td>6700000</td>\n",
       "      <td>650</td>\n",
       "      <td>Kharghar</td>\n",
       "      <td>1</td>\n",
       "      <td>0</td>\n",
       "      <td>1</td>\n",
       "      <td>1</td>\n",
       "      <td>1</td>\n",
       "      <td>1</td>\n",
       "      <td>1</td>\n",
       "      <td>1</td>\n",
       "      <td>1</td>\n",
       "      <td>1</td>\n",
       "      <td>0</td>\n",
       "      <td>0</td>\n",
       "      <td>0</td>\n",
       "      <td>1</td>\n",
       "      <td>1</td>\n",
       "    </tr>\n",
       "    <tr>\n",
       "      <th>3</th>\n",
       "      <td>3</td>\n",
       "      <td>4500000</td>\n",
       "      <td>650</td>\n",
       "      <td>Kharghar</td>\n",
       "      <td>1</td>\n",
       "      <td>0</td>\n",
       "      <td>0</td>\n",
       "      <td>1</td>\n",
       "      <td>1</td>\n",
       "      <td>1</td>\n",
       "      <td>1</td>\n",
       "      <td>0</td>\n",
       "      <td>0</td>\n",
       "      <td>1</td>\n",
       "      <td>1</td>\n",
       "      <td>0</td>\n",
       "      <td>0</td>\n",
       "      <td>0</td>\n",
       "      <td>0</td>\n",
       "    </tr>\n",
       "    <tr>\n",
       "      <th>4</th>\n",
       "      <td>4</td>\n",
       "      <td>5000000</td>\n",
       "      <td>665</td>\n",
       "      <td>Kharghar</td>\n",
       "      <td>1</td>\n",
       "      <td>0</td>\n",
       "      <td>0</td>\n",
       "      <td>1</td>\n",
       "      <td>1</td>\n",
       "      <td>1</td>\n",
       "      <td>1</td>\n",
       "      <td>0</td>\n",
       "      <td>0</td>\n",
       "      <td>1</td>\n",
       "      <td>1</td>\n",
       "      <td>0</td>\n",
       "      <td>0</td>\n",
       "      <td>0</td>\n",
       "      <td>0</td>\n",
       "    </tr>\n",
       "  </tbody>\n",
       "</table>\n",
       "</div>"
      ],
      "text/plain": [
       "   Unnamed: 0    Price  Area  Location  Bedrooms  New/Resale  Gymnasium  \\\n",
       "0           0  4850000   720  Kharghar         1           0          0   \n",
       "1           1  4500000   600  Kharghar         1           0          1   \n",
       "2           2  6700000   650  Kharghar         1           0          1   \n",
       "3           3  4500000   650  Kharghar         1           0          0   \n",
       "4           4  5000000   665  Kharghar         1           0          0   \n",
       "\n",
       "   Lift Available  Car Parking  Maintenance Staff  24x7 Security  \\\n",
       "0               1            1                  1              1   \n",
       "1               1            1                  1              1   \n",
       "2               1            1                  1              1   \n",
       "3               1            1                  1              1   \n",
       "4               1            1                  1              1   \n",
       "\n",
       "   Children Play Area  Clubhouse  Intercom  Landscaped Gardens  Indoor Games  \\\n",
       "0                   0          0         0                   0             0   \n",
       "1                   0          1         0                   0             0   \n",
       "2                   1          1         1                   0             0   \n",
       "3                   0          0         1                   1             0   \n",
       "4                   0          0         1                   1             0   \n",
       "\n",
       "   Gas Connection  Jogging Track  Swimming Pool  \n",
       "0               0              0              0  \n",
       "1               0              1              1  \n",
       "2               0              1              1  \n",
       "3               0              0              0  \n",
       "4               0              0              0  "
      ]
     },
     "execution_count": 2,
     "metadata": {},
     "output_type": "execute_result"
    }
   ],
   "source": [
    "df = pd.read_csv(\"Mumbai.csv\")\n",
    "df.head()"
   ]
  },
  {
   "cell_type": "code",
   "execution_count": 3,
   "metadata": {},
   "outputs": [
    {
     "name": "stdout",
     "output_type": "stream",
     "text": [
      "<class 'pandas.core.frame.DataFrame'>\n",
      "RangeIndex: 6347 entries, 0 to 6346\n",
      "Data columns (total 19 columns):\n",
      " #   Column              Non-Null Count  Dtype \n",
      "---  ------              --------------  ----- \n",
      " 0   Unnamed: 0          6347 non-null   int64 \n",
      " 1   Price               6347 non-null   int64 \n",
      " 2   Area                6347 non-null   int64 \n",
      " 3   Location            6347 non-null   object\n",
      " 4   Bedrooms            6347 non-null   int64 \n",
      " 5   New/Resale          6347 non-null   int64 \n",
      " 6   Gymnasium           6347 non-null   int64 \n",
      " 7   Lift Available      6347 non-null   int64 \n",
      " 8   Car Parking         6347 non-null   int64 \n",
      " 9   Maintenance Staff   6347 non-null   int64 \n",
      " 10  24x7 Security       6347 non-null   int64 \n",
      " 11  Children Play Area  6347 non-null   int64 \n",
      " 12  Clubhouse           6347 non-null   int64 \n",
      " 13  Intercom            6347 non-null   int64 \n",
      " 14  Landscaped Gardens  6347 non-null   int64 \n",
      " 15  Indoor Games        6347 non-null   int64 \n",
      " 16  Gas Connection      6347 non-null   int64 \n",
      " 17  Jogging Track       6347 non-null   int64 \n",
      " 18  Swimming Pool       6347 non-null   int64 \n",
      "dtypes: int64(18), object(1)\n",
      "memory usage: 942.3+ KB\n"
     ]
    }
   ],
   "source": [
    "df.info()"
   ]
  },
  {
   "cell_type": "code",
   "execution_count": 4,
   "metadata": {},
   "outputs": [
    {
     "data": {
      "text/html": [
       "<div>\n",
       "<style scoped>\n",
       "    .dataframe tbody tr th:only-of-type {\n",
       "        vertical-align: middle;\n",
       "    }\n",
       "\n",
       "    .dataframe tbody tr th {\n",
       "        vertical-align: top;\n",
       "    }\n",
       "\n",
       "    .dataframe thead th {\n",
       "        text-align: right;\n",
       "    }\n",
       "</style>\n",
       "<table border=\"1\" class=\"dataframe\">\n",
       "  <thead>\n",
       "    <tr style=\"text-align: right;\">\n",
       "      <th></th>\n",
       "      <th>Unnamed: 0</th>\n",
       "      <th>Price</th>\n",
       "      <th>Area</th>\n",
       "      <th>Bedrooms</th>\n",
       "      <th>New/Resale</th>\n",
       "      <th>Gymnasium</th>\n",
       "      <th>Lift Available</th>\n",
       "      <th>Car Parking</th>\n",
       "      <th>Maintenance Staff</th>\n",
       "      <th>24x7 Security</th>\n",
       "      <th>Children Play Area</th>\n",
       "      <th>Clubhouse</th>\n",
       "      <th>Intercom</th>\n",
       "      <th>Landscaped Gardens</th>\n",
       "      <th>Indoor Games</th>\n",
       "      <th>Gas Connection</th>\n",
       "      <th>Jogging Track</th>\n",
       "      <th>Swimming Pool</th>\n",
       "    </tr>\n",
       "  </thead>\n",
       "  <tbody>\n",
       "    <tr>\n",
       "      <th>count</th>\n",
       "      <td>6347.000000</td>\n",
       "      <td>6.347000e+03</td>\n",
       "      <td>6347.000000</td>\n",
       "      <td>6347.000000</td>\n",
       "      <td>6347.000000</td>\n",
       "      <td>6347.000000</td>\n",
       "      <td>6347.000000</td>\n",
       "      <td>6347.000000</td>\n",
       "      <td>6347.000000</td>\n",
       "      <td>6347.000000</td>\n",
       "      <td>6347.000000</td>\n",
       "      <td>6347.000000</td>\n",
       "      <td>6347.000000</td>\n",
       "      <td>6347.000000</td>\n",
       "      <td>6347.000000</td>\n",
       "      <td>6347.000000</td>\n",
       "      <td>6347.000000</td>\n",
       "      <td>6347.000000</td>\n",
       "    </tr>\n",
       "    <tr>\n",
       "      <th>mean</th>\n",
       "      <td>3173.000000</td>\n",
       "      <td>1.515401e+07</td>\n",
       "      <td>1004.327084</td>\n",
       "      <td>1.910036</td>\n",
       "      <td>0.341736</td>\n",
       "      <td>0.581377</td>\n",
       "      <td>0.801481</td>\n",
       "      <td>0.562943</td>\n",
       "      <td>0.281393</td>\n",
       "      <td>0.562943</td>\n",
       "      <td>0.559319</td>\n",
       "      <td>0.496297</td>\n",
       "      <td>0.484796</td>\n",
       "      <td>0.360643</td>\n",
       "      <td>0.219631</td>\n",
       "      <td>0.243107</td>\n",
       "      <td>0.381440</td>\n",
       "      <td>0.458327</td>\n",
       "    </tr>\n",
       "    <tr>\n",
       "      <th>std</th>\n",
       "      <td>1832.365411</td>\n",
       "      <td>2.015943e+07</td>\n",
       "      <td>556.375703</td>\n",
       "      <td>0.863304</td>\n",
       "      <td>0.474329</td>\n",
       "      <td>0.493372</td>\n",
       "      <td>0.398916</td>\n",
       "      <td>0.496061</td>\n",
       "      <td>0.449714</td>\n",
       "      <td>0.496061</td>\n",
       "      <td>0.496508</td>\n",
       "      <td>0.500026</td>\n",
       "      <td>0.499808</td>\n",
       "      <td>0.480225</td>\n",
       "      <td>0.414029</td>\n",
       "      <td>0.428993</td>\n",
       "      <td>0.485778</td>\n",
       "      <td>0.498300</td>\n",
       "    </tr>\n",
       "    <tr>\n",
       "      <th>min</th>\n",
       "      <td>0.000000</td>\n",
       "      <td>2.000000e+06</td>\n",
       "      <td>200.000000</td>\n",
       "      <td>1.000000</td>\n",
       "      <td>0.000000</td>\n",
       "      <td>0.000000</td>\n",
       "      <td>0.000000</td>\n",
       "      <td>0.000000</td>\n",
       "      <td>0.000000</td>\n",
       "      <td>0.000000</td>\n",
       "      <td>0.000000</td>\n",
       "      <td>0.000000</td>\n",
       "      <td>0.000000</td>\n",
       "      <td>0.000000</td>\n",
       "      <td>0.000000</td>\n",
       "      <td>0.000000</td>\n",
       "      <td>0.000000</td>\n",
       "      <td>0.000000</td>\n",
       "    </tr>\n",
       "    <tr>\n",
       "      <th>25%</th>\n",
       "      <td>1586.500000</td>\n",
       "      <td>5.300000e+06</td>\n",
       "      <td>650.000000</td>\n",
       "      <td>1.000000</td>\n",
       "      <td>0.000000</td>\n",
       "      <td>0.000000</td>\n",
       "      <td>1.000000</td>\n",
       "      <td>0.000000</td>\n",
       "      <td>0.000000</td>\n",
       "      <td>0.000000</td>\n",
       "      <td>0.000000</td>\n",
       "      <td>0.000000</td>\n",
       "      <td>0.000000</td>\n",
       "      <td>0.000000</td>\n",
       "      <td>0.000000</td>\n",
       "      <td>0.000000</td>\n",
       "      <td>0.000000</td>\n",
       "      <td>0.000000</td>\n",
       "    </tr>\n",
       "    <tr>\n",
       "      <th>50%</th>\n",
       "      <td>3173.000000</td>\n",
       "      <td>9.500000e+06</td>\n",
       "      <td>905.000000</td>\n",
       "      <td>2.000000</td>\n",
       "      <td>0.000000</td>\n",
       "      <td>1.000000</td>\n",
       "      <td>1.000000</td>\n",
       "      <td>1.000000</td>\n",
       "      <td>0.000000</td>\n",
       "      <td>1.000000</td>\n",
       "      <td>1.000000</td>\n",
       "      <td>0.000000</td>\n",
       "      <td>0.000000</td>\n",
       "      <td>0.000000</td>\n",
       "      <td>0.000000</td>\n",
       "      <td>0.000000</td>\n",
       "      <td>0.000000</td>\n",
       "      <td>0.000000</td>\n",
       "    </tr>\n",
       "    <tr>\n",
       "      <th>75%</th>\n",
       "      <td>4759.500000</td>\n",
       "      <td>1.750000e+07</td>\n",
       "      <td>1182.000000</td>\n",
       "      <td>2.000000</td>\n",
       "      <td>1.000000</td>\n",
       "      <td>1.000000</td>\n",
       "      <td>1.000000</td>\n",
       "      <td>1.000000</td>\n",
       "      <td>1.000000</td>\n",
       "      <td>1.000000</td>\n",
       "      <td>1.000000</td>\n",
       "      <td>1.000000</td>\n",
       "      <td>1.000000</td>\n",
       "      <td>1.000000</td>\n",
       "      <td>0.000000</td>\n",
       "      <td>0.000000</td>\n",
       "      <td>1.000000</td>\n",
       "      <td>1.000000</td>\n",
       "    </tr>\n",
       "    <tr>\n",
       "      <th>max</th>\n",
       "      <td>6346.000000</td>\n",
       "      <td>4.200000e+08</td>\n",
       "      <td>8511.000000</td>\n",
       "      <td>7.000000</td>\n",
       "      <td>1.000000</td>\n",
       "      <td>1.000000</td>\n",
       "      <td>1.000000</td>\n",
       "      <td>1.000000</td>\n",
       "      <td>1.000000</td>\n",
       "      <td>1.000000</td>\n",
       "      <td>1.000000</td>\n",
       "      <td>1.000000</td>\n",
       "      <td>1.000000</td>\n",
       "      <td>1.000000</td>\n",
       "      <td>1.000000</td>\n",
       "      <td>1.000000</td>\n",
       "      <td>1.000000</td>\n",
       "      <td>1.000000</td>\n",
       "    </tr>\n",
       "  </tbody>\n",
       "</table>\n",
       "</div>"
      ],
      "text/plain": [
       "        Unnamed: 0         Price         Area     Bedrooms   New/Resale  \\\n",
       "count  6347.000000  6.347000e+03  6347.000000  6347.000000  6347.000000   \n",
       "mean   3173.000000  1.515401e+07  1004.327084     1.910036     0.341736   \n",
       "std    1832.365411  2.015943e+07   556.375703     0.863304     0.474329   \n",
       "min       0.000000  2.000000e+06   200.000000     1.000000     0.000000   \n",
       "25%    1586.500000  5.300000e+06   650.000000     1.000000     0.000000   \n",
       "50%    3173.000000  9.500000e+06   905.000000     2.000000     0.000000   \n",
       "75%    4759.500000  1.750000e+07  1182.000000     2.000000     1.000000   \n",
       "max    6346.000000  4.200000e+08  8511.000000     7.000000     1.000000   \n",
       "\n",
       "         Gymnasium  Lift Available  Car Parking  Maintenance Staff  \\\n",
       "count  6347.000000     6347.000000  6347.000000        6347.000000   \n",
       "mean      0.581377        0.801481     0.562943           0.281393   \n",
       "std       0.493372        0.398916     0.496061           0.449714   \n",
       "min       0.000000        0.000000     0.000000           0.000000   \n",
       "25%       0.000000        1.000000     0.000000           0.000000   \n",
       "50%       1.000000        1.000000     1.000000           0.000000   \n",
       "75%       1.000000        1.000000     1.000000           1.000000   \n",
       "max       1.000000        1.000000     1.000000           1.000000   \n",
       "\n",
       "       24x7 Security  Children Play Area    Clubhouse     Intercom  \\\n",
       "count    6347.000000         6347.000000  6347.000000  6347.000000   \n",
       "mean        0.562943            0.559319     0.496297     0.484796   \n",
       "std         0.496061            0.496508     0.500026     0.499808   \n",
       "min         0.000000            0.000000     0.000000     0.000000   \n",
       "25%         0.000000            0.000000     0.000000     0.000000   \n",
       "50%         1.000000            1.000000     0.000000     0.000000   \n",
       "75%         1.000000            1.000000     1.000000     1.000000   \n",
       "max         1.000000            1.000000     1.000000     1.000000   \n",
       "\n",
       "       Landscaped Gardens  Indoor Games  Gas Connection  Jogging Track  \\\n",
       "count         6347.000000   6347.000000     6347.000000    6347.000000   \n",
       "mean             0.360643      0.219631        0.243107       0.381440   \n",
       "std              0.480225      0.414029        0.428993       0.485778   \n",
       "min              0.000000      0.000000        0.000000       0.000000   \n",
       "25%              0.000000      0.000000        0.000000       0.000000   \n",
       "50%              0.000000      0.000000        0.000000       0.000000   \n",
       "75%              1.000000      0.000000        0.000000       1.000000   \n",
       "max              1.000000      1.000000        1.000000       1.000000   \n",
       "\n",
       "       Swimming Pool  \n",
       "count    6347.000000  \n",
       "mean        0.458327  \n",
       "std         0.498300  \n",
       "min         0.000000  \n",
       "25%         0.000000  \n",
       "50%         0.000000  \n",
       "75%         1.000000  \n",
       "max         1.000000  "
      ]
     },
     "execution_count": 4,
     "metadata": {},
     "output_type": "execute_result"
    }
   ],
   "source": [
    "df.describe()"
   ]
  },
  {
   "cell_type": "code",
   "execution_count": 5,
   "metadata": {},
   "outputs": [
    {
     "data": {
      "text/plain": [
       "(6347, 19)"
      ]
     },
     "execution_count": 5,
     "metadata": {},
     "output_type": "execute_result"
    }
   ],
   "source": [
    "df.shape"
   ]
  },
  {
   "cell_type": "code",
   "execution_count": 6,
   "metadata": {},
   "outputs": [
    {
     "data": {
      "text/plain": [
       "Index(['Unnamed: 0', 'Price', 'Area', 'Location', 'Bedrooms', 'New/Resale',\n",
       "       'Gymnasium', 'Lift Available', 'Car Parking', 'Maintenance Staff',\n",
       "       '24x7 Security', 'Children Play Area', 'Clubhouse', 'Intercom',\n",
       "       'Landscaped Gardens', 'Indoor Games', 'Gas Connection', 'Jogging Track',\n",
       "       'Swimming Pool'],\n",
       "      dtype='object')"
      ]
     },
     "execution_count": 6,
     "metadata": {},
     "output_type": "execute_result"
    }
   ],
   "source": [
    "df.columns"
   ]
  },
  {
   "cell_type": "code",
   "execution_count": 7,
   "metadata": {},
   "outputs": [
    {
     "data": {
      "text/html": [
       "<div>\n",
       "<style scoped>\n",
       "    .dataframe tbody tr th:only-of-type {\n",
       "        vertical-align: middle;\n",
       "    }\n",
       "\n",
       "    .dataframe tbody tr th {\n",
       "        vertical-align: top;\n",
       "    }\n",
       "\n",
       "    .dataframe thead th {\n",
       "        text-align: right;\n",
       "    }\n",
       "</style>\n",
       "<table border=\"1\" class=\"dataframe\">\n",
       "  <thead>\n",
       "    <tr style=\"text-align: right;\">\n",
       "      <th></th>\n",
       "      <th>Price</th>\n",
       "      <th>Area</th>\n",
       "      <th>Location</th>\n",
       "      <th>Bedrooms</th>\n",
       "      <th>Gymnasium</th>\n",
       "      <th>Lift Available</th>\n",
       "      <th>Car Parking</th>\n",
       "      <th>24x7 Security</th>\n",
       "      <th>Clubhouse</th>\n",
       "      <th>Landscaped Gardens</th>\n",
       "      <th>Swimming Pool</th>\n",
       "    </tr>\n",
       "  </thead>\n",
       "  <tbody>\n",
       "    <tr>\n",
       "      <th>0</th>\n",
       "      <td>4850000</td>\n",
       "      <td>720</td>\n",
       "      <td>Kharghar</td>\n",
       "      <td>1</td>\n",
       "      <td>0</td>\n",
       "      <td>1</td>\n",
       "      <td>1</td>\n",
       "      <td>1</td>\n",
       "      <td>0</td>\n",
       "      <td>0</td>\n",
       "      <td>0</td>\n",
       "    </tr>\n",
       "    <tr>\n",
       "      <th>1</th>\n",
       "      <td>4500000</td>\n",
       "      <td>600</td>\n",
       "      <td>Kharghar</td>\n",
       "      <td>1</td>\n",
       "      <td>1</td>\n",
       "      <td>1</td>\n",
       "      <td>1</td>\n",
       "      <td>1</td>\n",
       "      <td>1</td>\n",
       "      <td>0</td>\n",
       "      <td>1</td>\n",
       "    </tr>\n",
       "    <tr>\n",
       "      <th>2</th>\n",
       "      <td>6700000</td>\n",
       "      <td>650</td>\n",
       "      <td>Kharghar</td>\n",
       "      <td>1</td>\n",
       "      <td>1</td>\n",
       "      <td>1</td>\n",
       "      <td>1</td>\n",
       "      <td>1</td>\n",
       "      <td>1</td>\n",
       "      <td>0</td>\n",
       "      <td>1</td>\n",
       "    </tr>\n",
       "    <tr>\n",
       "      <th>3</th>\n",
       "      <td>4500000</td>\n",
       "      <td>650</td>\n",
       "      <td>Kharghar</td>\n",
       "      <td>1</td>\n",
       "      <td>0</td>\n",
       "      <td>1</td>\n",
       "      <td>1</td>\n",
       "      <td>1</td>\n",
       "      <td>0</td>\n",
       "      <td>1</td>\n",
       "      <td>0</td>\n",
       "    </tr>\n",
       "    <tr>\n",
       "      <th>4</th>\n",
       "      <td>5000000</td>\n",
       "      <td>665</td>\n",
       "      <td>Kharghar</td>\n",
       "      <td>1</td>\n",
       "      <td>0</td>\n",
       "      <td>1</td>\n",
       "      <td>1</td>\n",
       "      <td>1</td>\n",
       "      <td>0</td>\n",
       "      <td>1</td>\n",
       "      <td>0</td>\n",
       "    </tr>\n",
       "  </tbody>\n",
       "</table>\n",
       "</div>"
      ],
      "text/plain": [
       "     Price  Area  Location  Bedrooms  Gymnasium  Lift Available  Car Parking  \\\n",
       "0  4850000   720  Kharghar         1          0               1            1   \n",
       "1  4500000   600  Kharghar         1          1               1            1   \n",
       "2  6700000   650  Kharghar         1          1               1            1   \n",
       "3  4500000   650  Kharghar         1          0               1            1   \n",
       "4  5000000   665  Kharghar         1          0               1            1   \n",
       "\n",
       "   24x7 Security  Clubhouse  Landscaped Gardens  Swimming Pool  \n",
       "0              1          0                   0              0  \n",
       "1              1          1                   0              1  \n",
       "2              1          1                   0              1  \n",
       "3              1          0                   1              0  \n",
       "4              1          0                   1              0  "
      ]
     },
     "execution_count": 7,
     "metadata": {},
     "output_type": "execute_result"
    }
   ],
   "source": [
    "df1 = df.drop(['Unnamed: 0','New/Resale','Maintenance Staff', 'Children Play Area', 'Intercom', 'Indoor Games', 'Gas Connection',\n",
    "       'Jogging Track'], axis='columns')\n",
    "df1.head()"
   ]
  },
  {
   "cell_type": "code",
   "execution_count": 8,
   "metadata": {},
   "outputs": [
    {
     "data": {
      "text/plain": [
       "(6347, 11)"
      ]
     },
     "execution_count": 8,
     "metadata": {},
     "output_type": "execute_result"
    }
   ],
   "source": [
    "df1.shape"
   ]
  },
  {
   "cell_type": "code",
   "execution_count": 9,
   "metadata": {},
   "outputs": [
    {
     "data": {
      "text/plain": [
       "Price                 0\n",
       "Area                  0\n",
       "Location              0\n",
       "Bedrooms              0\n",
       "Gymnasium             0\n",
       "Lift Available        0\n",
       "Car Parking           0\n",
       "24x7 Security         0\n",
       "Clubhouse             0\n",
       "Landscaped Gardens    0\n",
       "Swimming Pool         0\n",
       "dtype: int64"
      ]
     },
     "execution_count": 9,
     "metadata": {},
     "output_type": "execute_result"
    }
   ],
   "source": [
    "df1.isnull().sum()"
   ]
  },
  {
   "cell_type": "code",
   "execution_count": 10,
   "metadata": {},
   "outputs": [
    {
     "data": {
      "text/plain": [
       "array([1, 4, 3, 2, 5, 6, 7], dtype=int64)"
      ]
     },
     "execution_count": 10,
     "metadata": {},
     "output_type": "execute_result"
    }
   ],
   "source": [
    "df2 = df1.copy()\n",
    "df2.Bedrooms.unique()"
   ]
  },
  {
   "cell_type": "code",
   "execution_count": 11,
   "metadata": {},
   "outputs": [
    {
     "data": {
      "text/plain": [
       "array([ 720,  600,  650, ...,  250, 1162,  435], dtype=int64)"
      ]
     },
     "execution_count": 11,
     "metadata": {},
     "output_type": "execute_result"
    }
   ],
   "source": [
    "df2.Area.unique()"
   ]
  },
  {
   "cell_type": "code",
   "execution_count": 12,
   "metadata": {},
   "outputs": [
    {
     "data": {
      "text/plain": [
       "Price                  8500000\n",
       "Area                      1114\n",
       "Location              Kharghar\n",
       "Bedrooms                     2\n",
       "Gymnasium                    1\n",
       "Lift Available               1\n",
       "Car Parking                  1\n",
       "24x7 Security                1\n",
       "Clubhouse                    1\n",
       "Landscaped Gardens           1\n",
       "Swimming Pool                1\n",
       "Name: 30, dtype: object"
      ]
     },
     "execution_count": 12,
     "metadata": {},
     "output_type": "execute_result"
    }
   ],
   "source": [
    "df2.loc[30]"
   ]
  },
  {
   "cell_type": "code",
   "execution_count": 13,
   "metadata": {},
   "outputs": [],
   "source": [
    "df2.to_csv('mhpp.csv')"
   ]
  },
  {
   "cell_type": "code",
   "execution_count": 14,
   "metadata": {},
   "outputs": [
    {
     "data": {
      "text/html": [
       "<div>\n",
       "<style scoped>\n",
       "    .dataframe tbody tr th:only-of-type {\n",
       "        vertical-align: middle;\n",
       "    }\n",
       "\n",
       "    .dataframe tbody tr th {\n",
       "        vertical-align: top;\n",
       "    }\n",
       "\n",
       "    .dataframe thead th {\n",
       "        text-align: right;\n",
       "    }\n",
       "</style>\n",
       "<table border=\"1\" class=\"dataframe\">\n",
       "  <thead>\n",
       "    <tr style=\"text-align: right;\">\n",
       "      <th></th>\n",
       "      <th>Price</th>\n",
       "      <th>Area</th>\n",
       "      <th>Location</th>\n",
       "      <th>Bedrooms</th>\n",
       "      <th>Gymnasium</th>\n",
       "      <th>Lift Available</th>\n",
       "      <th>Car Parking</th>\n",
       "      <th>24x7 Security</th>\n",
       "      <th>Clubhouse</th>\n",
       "      <th>Landscaped Gardens</th>\n",
       "      <th>Swimming Pool</th>\n",
       "      <th>Price Per Sqft</th>\n",
       "    </tr>\n",
       "  </thead>\n",
       "  <tbody>\n",
       "    <tr>\n",
       "      <th>6342</th>\n",
       "      <td>2485000</td>\n",
       "      <td>700</td>\n",
       "      <td>Shirgaon</td>\n",
       "      <td>1</td>\n",
       "      <td>0</td>\n",
       "      <td>0</td>\n",
       "      <td>0</td>\n",
       "      <td>0</td>\n",
       "      <td>0</td>\n",
       "      <td>0</td>\n",
       "      <td>0</td>\n",
       "      <td>3550.000000</td>\n",
       "    </tr>\n",
       "    <tr>\n",
       "      <th>6343</th>\n",
       "      <td>14500000</td>\n",
       "      <td>900</td>\n",
       "      <td>Thane West</td>\n",
       "      <td>2</td>\n",
       "      <td>0</td>\n",
       "      <td>0</td>\n",
       "      <td>0</td>\n",
       "      <td>0</td>\n",
       "      <td>0</td>\n",
       "      <td>0</td>\n",
       "      <td>0</td>\n",
       "      <td>16111.111111</td>\n",
       "    </tr>\n",
       "    <tr>\n",
       "      <th>6344</th>\n",
       "      <td>14500000</td>\n",
       "      <td>900</td>\n",
       "      <td>Thane West</td>\n",
       "      <td>2</td>\n",
       "      <td>0</td>\n",
       "      <td>1</td>\n",
       "      <td>0</td>\n",
       "      <td>0</td>\n",
       "      <td>0</td>\n",
       "      <td>0</td>\n",
       "      <td>0</td>\n",
       "      <td>16111.111111</td>\n",
       "    </tr>\n",
       "    <tr>\n",
       "      <th>6345</th>\n",
       "      <td>4100000</td>\n",
       "      <td>1380</td>\n",
       "      <td>Boisar</td>\n",
       "      <td>3</td>\n",
       "      <td>0</td>\n",
       "      <td>0</td>\n",
       "      <td>0</td>\n",
       "      <td>0</td>\n",
       "      <td>0</td>\n",
       "      <td>0</td>\n",
       "      <td>0</td>\n",
       "      <td>2971.014493</td>\n",
       "    </tr>\n",
       "    <tr>\n",
       "      <th>6346</th>\n",
       "      <td>2750000</td>\n",
       "      <td>700</td>\n",
       "      <td>Badlapur East</td>\n",
       "      <td>1</td>\n",
       "      <td>1</td>\n",
       "      <td>1</td>\n",
       "      <td>1</td>\n",
       "      <td>1</td>\n",
       "      <td>1</td>\n",
       "      <td>1</td>\n",
       "      <td>1</td>\n",
       "      <td>3928.571429</td>\n",
       "    </tr>\n",
       "  </tbody>\n",
       "</table>\n",
       "</div>"
      ],
      "text/plain": [
       "         Price  Area       Location  Bedrooms  Gymnasium  Lift Available  \\\n",
       "6342   2485000   700       Shirgaon         1          0               0   \n",
       "6343  14500000   900     Thane West         2          0               0   \n",
       "6344  14500000   900     Thane West         2          0               1   \n",
       "6345   4100000  1380         Boisar         3          0               0   \n",
       "6346   2750000   700  Badlapur East         1          1               1   \n",
       "\n",
       "      Car Parking  24x7 Security  Clubhouse  Landscaped Gardens  \\\n",
       "6342            0              0          0                   0   \n",
       "6343            0              0          0                   0   \n",
       "6344            0              0          0                   0   \n",
       "6345            0              0          0                   0   \n",
       "6346            1              1          1                   1   \n",
       "\n",
       "      Swimming Pool  Price Per Sqft  \n",
       "6342              0     3550.000000  \n",
       "6343              0    16111.111111  \n",
       "6344              0    16111.111111  \n",
       "6345              0     2971.014493  \n",
       "6346              1     3928.571429  "
      ]
     },
     "execution_count": 14,
     "metadata": {},
     "output_type": "execute_result"
    }
   ],
   "source": [
    "df3 = df2.copy()\n",
    "df3['Price Per Sqft'] = df3['Price']/df3['Area']\n",
    "df3.tail()"
   ]
  },
  {
   "cell_type": "code",
   "execution_count": 15,
   "metadata": {},
   "outputs": [
    {
     "data": {
      "text/plain": [
       "array(['Kharghar', 'Sector-13 Kharghar', 'Sector 18 Kharghar',\n",
       "       'Sector 20 Kharghar', 'Sector 15 Kharghar', 'Dombivali',\n",
       "       'Churchgate', 'Prabhadevi', 'Jogeshwari West', 'Kalyan East',\n",
       "       'Malad East', 'Virar East', 'Virar', 'Malad West', 'Borivali East',\n",
       "       'Mira Road East', 'Goregaon West', 'Kandivali West',\n",
       "       'Borivali West', 'Kandivali East', 'Andheri East', 'Goregaon East',\n",
       "       'Wadala', 'Ulwe', 'Dahisar', 'kandivali', 'Goregaon',\n",
       "       'Bhandup West', 'thakur village kandivali east', 'Santacruz West',\n",
       "       'Kanjurmarg', 'I C Colony', 'Dahisar W', 'Marol', 'Parel',\n",
       "       'Lower Parel', 'Worli', 'Jogeshwari East', 'Chembur Shell Colony',\n",
       "       'Central Avenue', 'Chembur East', 'Diamond Market Road', 'Mulund',\n",
       "       'Nalasopara West', 'raheja vihar', 'Powai Lake', 'MHADA Colony 20',\n",
       "       'Tolaram Colony', 'Taloja', 'Thane West', 'Vangani',\n",
       "       'Sector 5 Ulwe', 'Sector12 New Panvel', 'Sector 17 Ulwe',\n",
       "       'Sector9 Kamothe', 'Sector 19 Kharghar', 'Navi Basti',\n",
       "       'Sector12 Kamothe', 'Sector 21 Kamothe', 'Rutu Enclave',\n",
       "       'taloja panchanand', 'Virar West', 'Chembur', 'Sector 20 Kamothe',\n",
       "       'Sector 22 Kamothe', 'Sector 18 Kamothe', 'Sector-5 Kamothe',\n",
       "       'Sector-6A Kamothe', 'Sector 11 Kamothe', 'Sector-18 Ulwe',\n",
       "       'Sector-12 Kamothe', 'azad nagar', 'Sindhi Society Chembur',\n",
       "       'Kurla', 'Sahkar Nagar', 'Deonar', 'Thane', 'Jankalyan Nagar',\n",
       "       'Badlapur', 'Ambarnath', 'Ambernath West', 'Vakola', 'Kamothe',\n",
       "       'Kamothe Sector 16', 'Almeida Park', 'Khar', 'Bandra West',\n",
       "       'Pali Hill', '15th Road', 'Palghar', 'Sector13 Kharghar',\n",
       "       'Sector 21 Kharghar', 'Sector 12 Kharghar', 'Vivek Vidyalaya Marg',\n",
       "       'Vasai east', 'Nahur', 'Badlapur West', 'Panvel', 'Kalyan',\n",
       "       'Badlapur East', 'Mira Bhayandar', 'Juhu', 'Naigaon East',\n",
       "       'Sector 21 Ulwe', 'Bandra East', 'Dronagiri', 'Nerul', 'Karanjade',\n",
       "       'Sanpada', 'Sector-8 Ulwe', 'Sector-3 Ulwe', 'Sector 23 Ulwe',\n",
       "       'ULWE SECTOR 19', 'Ghodbunder Road', 'Bhiwandi', 'Vasai',\n",
       "       'Nala Sopara', 'Dadar East', 'Ghatkopar', 'Breach Candy',\n",
       "       'Worli South Mumbai', 'Asangaon', 'Koparkhairane Station Road',\n",
       "       'Kopar Khairane Sector 19A', 'Koper Khairane',\n",
       "       'Eastern Express Highway Vikhroli', 'Magathane', 'Rawal Pada',\n",
       "       'Ambernath East', 'Dokali Pada', 'Dattapada', 'Rajendra Nagar',\n",
       "       'Kulupwadi', 'Samata Nagar Thakur Village', 'Mira Road and Beyond',\n",
       "       'West Amardeep Colony', 'Pant Nagar', 'mumbai', 'Four Bungalows',\n",
       "       'no 9', 'kolshet', 'Hiranandani Meadows', 'Kalpataru', 'Petali',\n",
       "       'Kharghar Sector 34C', 'Ghatkopar East',\n",
       "       'Mumbai Agra National Highway', 'vasant vihar thane west',\n",
       "       'Kalyan West', 'Shirgaon', 'Pokhran 2', 'juhu tara', 'Peddar Road',\n",
       "       'Palm Beach', 'Sector 10', 'Sector 19 Kamothe', 'Tilak Nagar',\n",
       "       'Ghatkopar West', 'Tardeo', 'Napeansea Road', 'Mahalaxmi',\n",
       "       'Dahisar West', 'Mulund West', 'Natakwala Lane', 'Link Road',\n",
       "       'Devidas Cross Lane', 'Soniwadi Road', 'Haridas Nagar', 'Shimpoli',\n",
       "       'TPS Road', 'Off Shimpoli road', 'Rustomjee Global City',\n",
       "       'Sunil Nagar', 'Sector 30 Kharghar', 'Sector 12 A', 'Sector 18',\n",
       "       'Sector13 Khanda Colony', 'Sector16 Airoli', 'Ranjanpada',\n",
       "       'Sector 15', 'Sector 35G', 'Sector 5', 'Sector 35I Kharghar',\n",
       "       'Sector35D Kharghar', 'Sector34 A Kharghar', 'Sector 30',\n",
       "       'Sector 36 Kharghar', 'Sector 11 Belapur', 'Sector-34B Kharghar',\n",
       "       'Dombivali East', 'Roadpali', 'Sector-50 Seawoods',\n",
       "       'Mumbai Highway', 'Sector 7 Kharghar', 'Lokhandwala Township',\n",
       "       'Andheri', 'Andheri West', 'Shastri Nagar', 'Wadala East Wadala',\n",
       "       'Kalwa', 'PARSIK NAGAR', 'Maharashtra Nagar', 'Patlipada',\n",
       "       'Belapur', 'Seawoods', 'Majiwada', '4 Bunglows', 'Airoli',\n",
       "       'Kolshet Road', 'Sector 10 Khanda Colony', 'Pokharan Road',\n",
       "       'Kharegaon', 'Panch Pakhadi', 'Sector 36 Kamothe',\n",
       "       'Dombivli (West)', 'DN Nagar Road', 'Godrej Hill', 'Ganesh Nagar',\n",
       "       'Haware City', 'Mahatma Gandhi Road', 'Akurli Nagar',\n",
       "       'Kasar vadavali', 'Vasai West', 'Mumbai Nashik Expressway',\n",
       "       'Katrap', 'Mira Road', 'Kasheli',\n",
       "       'Western Express Highway Kandivali East', 'Vasind', 'KASHELI',\n",
       "       'Thakurli', 'Shakti Nagar', 'Bhayandar East', 'Dahisar East',\n",
       "       'ulhasnagar 4', 'Sector-26 Taloja', 'Koproli', 'Mumbai Central',\n",
       "       'Greater Khanda', 'link road borivali west', 'Manpada',\n",
       "       'Sector 2 Ulwe', 'Govind nagar', 'Krishanlal Marwah Marg',\n",
       "       'Sector-9 Ulwe', 'Vikhroli', 'Kalamboli', 'Lokhandwala',\n",
       "       'Patel Nagar', 'Yari Road', 'Thakur complex', 'Khar West',\n",
       "       'Sector 11 Kharghar', 'Ghansoli', 'Sector8 Sanpada',\n",
       "       'Jeejamata Nagar', 'Pandurangwadi', 'Shreyas Colony',\n",
       "       'Kannamwar Nagar II', 'gokuldham', 'Bangur Nagar',\n",
       "       'Shivaji Colony', 'Jawahar Nagar', 'Vedant Complex', 'Titwala',\n",
       "       'Manvel pada Road', 'Govandi', 'Shilphata Road Thane',\n",
       "       'Vasant Vihar', 'Thakur Village', 'Samata nagar', 'Wadi Bandar',\n",
       "       'Kapurbawadi', 'Thane Belapur Road Kalwa', 'Suburbs Mumbai',\n",
       "       'Ramdev Park', 'Sector-35 Kamothe',\n",
       "       'Sector 58A Seawoods Navi Mumbai', 'Diva', 'Borivali',\n",
       "       'Gundavali Gaothan', 'Kondivita Road', 'Koldongri', 'Saki Naka',\n",
       "       'Bhayandar West', 'Versova', 'Hanuman Nagar', 'worli sea face ',\n",
       "       'Sea Face', 'Shiv Sagar Estate', 'Grant Road West', 'Sriprastha',\n",
       "       'Off Nepean Sea Road', 'Morya Nagar', 'Upper Worli',\n",
       "       'worli sea Fase', 'Powai', 'Agripada', 'Sion', 'Girgaon',\n",
       "       'IT Colony', 'Bhayandarpada', 'Sector-24 Kamothe', 'Phase 2',\n",
       "       'Sector 6', 'Malad', 'Haji Ali', 'Majiwada thane', 'Yogi Hills',\n",
       "       'Sector 19 Nerul', 'Owale', 'MG Road', 'roadpali navimumbai',\n",
       "       'Taloja Bypass Nitalas Link Road', 'Rasayani', 'Sector 10 Kamothe',\n",
       "       'kavesar', 'Kopara', 'royal palms goregaon east', 'Dadar West',\n",
       "       'vrindavan society', 'CBD Belapur East', 'Parel Village',\n",
       "       'Karave Nagar', 'Sector 19A Nerul', 'Antop Hill', 'Suman Nagar',\n",
       "       'Bhakti Park', 'Hanuman Chowk', 'Willingdon', 'VishnuNagar',\n",
       "       'Vichumbe', 'Vashi', 'Poonam Sagar Complex', 'Santacruz East',\n",
       "       'Mulund East', 'Sector-8 Sanpada', 'Sector-9 Ghansoli', 'Balkum',\n",
       "       'Hiranandani Estates', 'Vartak Nagar', 'Charkop', 'dhanukarwadi',\n",
       "       'Vazira', 'Four Bunglows', 'Palava',\n",
       "       'Oshiwara Police Station Road', 'Seven Bunglow', 'Poddar Road',\n",
       "       'Gulmohar Road', 'Vile Parle E', 'Pokhran Road No 2',\n",
       "       'Sainath Nagar', 'Kapur Bawdi', 'Manpada near Tiku ji ni wadi',\n",
       "       'Kolshet Industrial Area', 'Sector16 Ulwe',\n",
       "       'Anand Nagar Thane West', 'Charkop Sector 8', 'Vile Parle',\n",
       "       'Marine Lines', 'Bandra Kurla Complex', 'sec 50 new',\n",
       "       'Vakola Pipeline Road', 'Neral', 'Shil Phata', 'Ville Parle East',\n",
       "       'matunga east', 'Dharavi', 'vile parle west', 'Anjurdive', 'Uran',\n",
       "       'Boisar', 'Kanjurmarg East', 'Kurla West', 'Sewri', 'Matunga',\n",
       "       'Goregaon (East)', 'Malabar Hill', 'Ambivali', 'Nalasopara East',\n",
       "       'Vijay Nagar', 'Chedda Nagar', 'Kurla East', 'Kharodi',\n",
       "       'Ville Parle West', 'Vikhroli West', 'Wadala East', 'Palidevad',\n",
       "       'Vikroli East', 'Mahim', 'Khalapur', 'Karjat', 'Vitthalwadi',\n",
       "       'Bhoiwada Kalyan', 'Beturkar Pada', 'Ambivli', 'Nilje Gaon',\n",
       "       'Khopoli', 'Taloje', 'Gulal Wadi', 'Tilak Nagar Mumbai',\n",
       "       'Chandivali', 'Nere', 'Kewale', 'Sector 9 Airoli', 'Diva Gaon',\n",
       "       'Sen Nagar', 'Adaigaon', 'Syndicate', 'Gandhar Nagar', 'Byculla',\n",
       "       'Padle Gaon'], dtype=object)"
      ]
     },
     "execution_count": 15,
     "metadata": {},
     "output_type": "execute_result"
    }
   ],
   "source": [
    "df3['Location'].unique()"
   ]
  },
  {
   "cell_type": "code",
   "execution_count": 16,
   "metadata": {},
   "outputs": [
    {
     "data": {
      "text/plain": [
       "413"
      ]
     },
     "execution_count": 16,
     "metadata": {},
     "output_type": "execute_result"
    }
   ],
   "source": [
    "len(df3.Location.unique())"
   ]
  },
  {
   "cell_type": "code",
   "execution_count": 17,
   "metadata": {},
   "outputs": [
    {
     "data": {
      "text/plain": [
       "count      6347.000000\n",
       "mean      13555.465839\n",
       "std        9573.921483\n",
       "min        1597.444089\n",
       "25%        7234.042553\n",
       "50%       10493.827160\n",
       "75%       17142.857143\n",
       "max      109950.522265\n",
       "Name: Price Per Sqft, dtype: float64"
      ]
     },
     "execution_count": 17,
     "metadata": {},
     "output_type": "execute_result"
    }
   ],
   "source": [
    "df3_stats = df3['Price Per Sqft'].describe()\n",
    "df3_stats"
   ]
  },
  {
   "cell_type": "code",
   "execution_count": 18,
   "metadata": {},
   "outputs": [
    {
     "name": "stdout",
     "output_type": "stream",
     "text": [
      "Location\n",
      "Kharghar                533\n",
      "Thane West              418\n",
      "Mira Road East          390\n",
      "Ulwe                    319\n",
      "Kalyan West             176\n",
      "                       ... \n",
      "Poonam Sagar Complex      1\n",
      "Pokhran Road No 2         1\n",
      "Pokharan Road             1\n",
      "Poddar Road               1\n",
      "15th Road                 1\n",
      "Name: Location, Length: 413, dtype: int64\n"
     ]
    }
   ],
   "source": [
    "df4 = df3.copy()\n",
    "df4.Location = df4.Location.apply(lambda x: x.strip())\n",
    "location_stats = df4.groupby('Location')['Location'].agg('count').sort_values(ascending=False)\n",
    "print(location_stats)"
   ]
  },
  {
   "cell_type": "code",
   "execution_count": 19,
   "metadata": {},
   "outputs": [
    {
     "data": {
      "text/plain": [
       "284"
      ]
     },
     "execution_count": 19,
     "metadata": {},
     "output_type": "execute_result"
    }
   ],
   "source": [
    "len(location_stats[location_stats<=5])"
   ]
  },
  {
   "cell_type": "code",
   "execution_count": 20,
   "metadata": {},
   "outputs": [
    {
     "name": "stdout",
     "output_type": "stream",
     "text": [
      "Location\n",
      "Vartak Nagar            5\n",
      "Central Avenue          5\n",
      "Hiranandani Meadows     5\n",
      "Greater Khanda          5\n",
      "Wadala East             5\n",
      "                       ..\n",
      "Poonam Sagar Complex    1\n",
      "Pokhran Road No 2       1\n",
      "Pokharan Road           1\n",
      "Poddar Road             1\n",
      "15th Road               1\n",
      "Name: Location, Length: 284, dtype: int64\n"
     ]
    }
   ],
   "source": [
    "locations_Under_5 = location_stats[location_stats<=5]\n",
    "print(locations_Under_5)"
   ]
  },
  {
   "cell_type": "code",
   "execution_count": 21,
   "metadata": {},
   "outputs": [
    {
     "data": {
      "text/plain": [
       "130"
      ]
     },
     "execution_count": 21,
     "metadata": {},
     "output_type": "execute_result"
    }
   ],
   "source": [
    "df4.Location = df4.Location.apply(lambda x:'other' if x in locations_Under_5 else x)\n",
    "len(df4.Location.unique())"
   ]
  },
  {
   "cell_type": "code",
   "execution_count": 22,
   "metadata": {},
   "outputs": [
    {
     "data": {
      "text/plain": [
       "Index(['Price', 'Area', 'Location', 'Bedrooms', 'Gymnasium', 'Lift Available',\n",
       "       'Car Parking', '24x7 Security', 'Clubhouse', 'Landscaped Gardens',\n",
       "       'Swimming Pool', 'Price Per Sqft'],\n",
       "      dtype='object')"
      ]
     },
     "execution_count": 22,
     "metadata": {},
     "output_type": "execute_result"
    }
   ],
   "source": [
    "df4.columns"
   ]
  },
  {
   "cell_type": "code",
   "execution_count": 23,
   "metadata": {},
   "outputs": [
    {
     "data": {
      "text/html": [
       "<div>\n",
       "<style scoped>\n",
       "    .dataframe tbody tr th:only-of-type {\n",
       "        vertical-align: middle;\n",
       "    }\n",
       "\n",
       "    .dataframe tbody tr th {\n",
       "        vertical-align: top;\n",
       "    }\n",
       "\n",
       "    .dataframe thead th {\n",
       "        text-align: right;\n",
       "    }\n",
       "</style>\n",
       "<table border=\"1\" class=\"dataframe\">\n",
       "  <thead>\n",
       "    <tr style=\"text-align: right;\">\n",
       "      <th></th>\n",
       "      <th>Price</th>\n",
       "      <th>Area</th>\n",
       "      <th>Location</th>\n",
       "      <th>Bhk</th>\n",
       "      <th>Gym</th>\n",
       "      <th>Lift</th>\n",
       "      <th>Car</th>\n",
       "      <th>Security</th>\n",
       "      <th>Clubhouse</th>\n",
       "      <th>Garden</th>\n",
       "      <th>Pool</th>\n",
       "      <th>PricePerSqft</th>\n",
       "    </tr>\n",
       "  </thead>\n",
       "  <tbody>\n",
       "    <tr>\n",
       "      <th>0</th>\n",
       "      <td>4850000</td>\n",
       "      <td>720</td>\n",
       "      <td>Kharghar</td>\n",
       "      <td>1</td>\n",
       "      <td>0</td>\n",
       "      <td>1</td>\n",
       "      <td>1</td>\n",
       "      <td>1</td>\n",
       "      <td>0</td>\n",
       "      <td>0</td>\n",
       "      <td>0</td>\n",
       "      <td>6736.111111</td>\n",
       "    </tr>\n",
       "    <tr>\n",
       "      <th>1</th>\n",
       "      <td>4500000</td>\n",
       "      <td>600</td>\n",
       "      <td>Kharghar</td>\n",
       "      <td>1</td>\n",
       "      <td>1</td>\n",
       "      <td>1</td>\n",
       "      <td>1</td>\n",
       "      <td>1</td>\n",
       "      <td>1</td>\n",
       "      <td>0</td>\n",
       "      <td>1</td>\n",
       "      <td>7500.000000</td>\n",
       "    </tr>\n",
       "    <tr>\n",
       "      <th>2</th>\n",
       "      <td>6700000</td>\n",
       "      <td>650</td>\n",
       "      <td>Kharghar</td>\n",
       "      <td>1</td>\n",
       "      <td>1</td>\n",
       "      <td>1</td>\n",
       "      <td>1</td>\n",
       "      <td>1</td>\n",
       "      <td>1</td>\n",
       "      <td>0</td>\n",
       "      <td>1</td>\n",
       "      <td>10307.692308</td>\n",
       "    </tr>\n",
       "    <tr>\n",
       "      <th>3</th>\n",
       "      <td>4500000</td>\n",
       "      <td>650</td>\n",
       "      <td>Kharghar</td>\n",
       "      <td>1</td>\n",
       "      <td>0</td>\n",
       "      <td>1</td>\n",
       "      <td>1</td>\n",
       "      <td>1</td>\n",
       "      <td>0</td>\n",
       "      <td>1</td>\n",
       "      <td>0</td>\n",
       "      <td>6923.076923</td>\n",
       "    </tr>\n",
       "    <tr>\n",
       "      <th>4</th>\n",
       "      <td>5000000</td>\n",
       "      <td>665</td>\n",
       "      <td>Kharghar</td>\n",
       "      <td>1</td>\n",
       "      <td>0</td>\n",
       "      <td>1</td>\n",
       "      <td>1</td>\n",
       "      <td>1</td>\n",
       "      <td>0</td>\n",
       "      <td>1</td>\n",
       "      <td>0</td>\n",
       "      <td>7518.796992</td>\n",
       "    </tr>\n",
       "  </tbody>\n",
       "</table>\n",
       "</div>"
      ],
      "text/plain": [
       "     Price  Area  Location  Bhk  Gym  Lift  Car  Security  Clubhouse  Garden  \\\n",
       "0  4850000   720  Kharghar    1    0     1    1         1          0       0   \n",
       "1  4500000   600  Kharghar    1    1     1    1         1          1       0   \n",
       "2  6700000   650  Kharghar    1    1     1    1         1          1       0   \n",
       "3  4500000   650  Kharghar    1    0     1    1         1          0       1   \n",
       "4  5000000   665  Kharghar    1    0     1    1         1          0       1   \n",
       "\n",
       "   Pool  PricePerSqft  \n",
       "0     0   6736.111111  \n",
       "1     1   7500.000000  \n",
       "2     1  10307.692308  \n",
       "3     0   6923.076923  \n",
       "4     0   7518.796992  "
      ]
     },
     "execution_count": 23,
     "metadata": {},
     "output_type": "execute_result"
    }
   ],
   "source": [
    "df5 = df4.copy()\n",
    "df5.rename(\n",
    "    columns=({ 'Bedrooms': 'Bhk','Lift Available':'Lift','Car Parking':'Car','24x7 Security':'Security', 'Gymnasium':'Gym', 'Landscaped Gardens':'Garden', 'Swimming Pool':'Pool', 'Price Per Sqft':'PricePerSqft'}), \n",
    "    inplace=True,\n",
    ")\n",
    "df5.head()"
   ]
  },
  {
   "cell_type": "code",
   "execution_count": 24,
   "metadata": {},
   "outputs": [
    {
     "data": {
      "text/plain": [
       "(6347, 12)"
      ]
     },
     "execution_count": 24,
     "metadata": {},
     "output_type": "execute_result"
    }
   ],
   "source": [
    "df5.shape"
   ]
  },
  {
   "cell_type": "code",
   "execution_count": 25,
   "metadata": {},
   "outputs": [
    {
     "data": {
      "text/plain": [
       "(6347, 12)"
      ]
     },
     "execution_count": 25,
     "metadata": {},
     "output_type": "execute_result"
    }
   ],
   "source": [
    "df6 = df5[~(df5.PricePerSqft/df5.Bhk<200)]\n",
    "df6.shape"
   ]
  },
  {
   "cell_type": "code",
   "execution_count": 26,
   "metadata": {},
   "outputs": [
    {
     "data": {
      "text/plain": [
       "(4869, 12)"
      ]
     },
     "execution_count": 26,
     "metadata": {},
     "output_type": "execute_result"
    }
   ],
   "source": [
    "def remove_pps_outliers(df):\n",
    "    df_out = pd.DataFrame()\n",
    "    for key, subdf in df.groupby('Location'):\n",
    "        m = np.mean(subdf.PricePerSqft)\n",
    "        st = np.std(subdf.PricePerSqft)\n",
    "        reduced_df = subdf[(subdf.PricePerSqft>(m-st)) & (subdf.PricePerSqft<=(m+st))]\n",
    "        df_out = pd.concat([df_out,reduced_df],ignore_index=True)\n",
    "    return df_out\n",
    "df7 = remove_pps_outliers(df6)\n",
    "df7.shape"
   ]
  },
  {
   "cell_type": "code",
   "execution_count": 27,
   "metadata": {},
   "outputs": [
    {
     "data": {
      "image/png": "[encoded data removed]",
      "text/plain": [
       "<Figure size 1080x720 with 1 Axes>"
      ]
     },
     "metadata": {
      "needs_background": "light"
     },
     "output_type": "display_data"
    }
   ],
   "source": [
    "def plot_scatter_chart(df,Location):\n",
    "    bhk2 = df[(df.Location==Location) & (df.Bhk==2)]\n",
    "    bhk3 = df[(df.Location==Location) & (df.Bhk==3)]\n",
    "    matplotlib.rcParams['figure.figsize'] = (15,10)\n",
    "    plt.scatter(bhk2.Area,bhk2.Price,color='blue',label='2 BHK', s=50)\n",
    "    plt.scatter(bhk3.Area,bhk3.Price,marker='+', color='green',label='3 BHK', s=50)\n",
    "    plt.xlabel(\"Total Square Feet Area\")\n",
    "    plt.ylabel(\"Price (Lakh Indian Rupees)\")\n",
    "    plt.title(Location)\n",
    "    plt.legend()\n",
    "    \n",
    "plot_scatter_chart(df7,\"Kharghar\")"
   ]
  },
  {
   "cell_type": "code",
   "execution_count": 28,
   "metadata": {},
   "outputs": [
    {
     "data": {
      "image/png": "[encoded data removed]",
      "text/plain": [
       "<Figure size 1080x720 with 1 Axes>"
      ]
     },
     "metadata": {
      "needs_background": "light"
     },
     "output_type": "display_data"
    }
   ],
   "source": [
    "plot_scatter_chart(df7,\"Thane West\")"
   ]
  },
  {
   "cell_type": "code",
   "execution_count": 29,
   "metadata": {},
   "outputs": [
    {
     "data": {
      "text/plain": [
       "Text(0, 0.5, 'Count')"
      ]
     },
     "execution_count": 29,
     "metadata": {},
     "output_type": "execute_result"
    },
    {
     "data": {
      "image/png": "[encoded data removed]",
      "text/plain": [
       "<Figure size 1440x720 with 1 Axes>"
      ]
     },
     "metadata": {
      "needs_background": "light"
     },
     "output_type": "display_data"
    }
   ],
   "source": [
    "df8 = df7.copy()\n",
    "import matplotlib\n",
    "matplotlib.rcParams[\"figure.figsize\"] = (20,10)\n",
    "plt.hist(df8.PricePerSqft,rwidth=0.8)\n",
    "plt.xlabel(\"Price Per Square Feet\")\n",
    "plt.ylabel(\"Count\")"
   ]
  },
  {
   "cell_type": "code",
   "execution_count": 30,
   "metadata": {},
   "outputs": [
    {
     "data": {
      "text/html": [
       "<div>\n",
       "<style scoped>\n",
       "    .dataframe tbody tr th:only-of-type {\n",
       "        vertical-align: middle;\n",
       "    }\n",
       "\n",
       "    .dataframe tbody tr th {\n",
       "        vertical-align: top;\n",
       "    }\n",
       "\n",
       "    .dataframe thead th {\n",
       "        text-align: right;\n",
       "    }\n",
       "</style>\n",
       "<table border=\"1\" class=\"dataframe\">\n",
       "  <thead>\n",
       "    <tr style=\"text-align: right;\">\n",
       "      <th></th>\n",
       "      <th>Price</th>\n",
       "      <th>Area</th>\n",
       "      <th>Location</th>\n",
       "      <th>Bhk</th>\n",
       "      <th>Gym</th>\n",
       "      <th>Lift</th>\n",
       "      <th>Car</th>\n",
       "      <th>Security</th>\n",
       "      <th>Clubhouse</th>\n",
       "      <th>Garden</th>\n",
       "      <th>Pool</th>\n",
       "      <th>PricePerSqft</th>\n",
       "    </tr>\n",
       "  </thead>\n",
       "  <tbody>\n",
       "    <tr>\n",
       "      <th>0</th>\n",
       "      <td>6200000</td>\n",
       "      <td>400</td>\n",
       "      <td>Airoli</td>\n",
       "      <td>1</td>\n",
       "      <td>0</td>\n",
       "      <td>1</td>\n",
       "      <td>1</td>\n",
       "      <td>1</td>\n",
       "      <td>0</td>\n",
       "      <td>0</td>\n",
       "      <td>0</td>\n",
       "      <td>15500.000000</td>\n",
       "    </tr>\n",
       "    <tr>\n",
       "      <th>1</th>\n",
       "      <td>9500000</td>\n",
       "      <td>1000</td>\n",
       "      <td>Airoli</td>\n",
       "      <td>2</td>\n",
       "      <td>0</td>\n",
       "      <td>1</td>\n",
       "      <td>1</td>\n",
       "      <td>1</td>\n",
       "      <td>1</td>\n",
       "      <td>0</td>\n",
       "      <td>1</td>\n",
       "      <td>9500.000000</td>\n",
       "    </tr>\n",
       "    <tr>\n",
       "      <th>2</th>\n",
       "      <td>14900000</td>\n",
       "      <td>1245</td>\n",
       "      <td>Airoli</td>\n",
       "      <td>2</td>\n",
       "      <td>0</td>\n",
       "      <td>1</td>\n",
       "      <td>1</td>\n",
       "      <td>0</td>\n",
       "      <td>0</td>\n",
       "      <td>0</td>\n",
       "      <td>0</td>\n",
       "      <td>11967.871486</td>\n",
       "    </tr>\n",
       "    <tr>\n",
       "      <th>3</th>\n",
       "      <td>14000000</td>\n",
       "      <td>1183</td>\n",
       "      <td>Airoli</td>\n",
       "      <td>2</td>\n",
       "      <td>1</td>\n",
       "      <td>1</td>\n",
       "      <td>1</td>\n",
       "      <td>1</td>\n",
       "      <td>1</td>\n",
       "      <td>1</td>\n",
       "      <td>1</td>\n",
       "      <td>11834.319527</td>\n",
       "    </tr>\n",
       "    <tr>\n",
       "      <th>4</th>\n",
       "      <td>14800000</td>\n",
       "      <td>1245</td>\n",
       "      <td>Airoli</td>\n",
       "      <td>2</td>\n",
       "      <td>0</td>\n",
       "      <td>1</td>\n",
       "      <td>1</td>\n",
       "      <td>1</td>\n",
       "      <td>0</td>\n",
       "      <td>0</td>\n",
       "      <td>0</td>\n",
       "      <td>11887.550201</td>\n",
       "    </tr>\n",
       "  </tbody>\n",
       "</table>\n",
       "</div>"
      ],
      "text/plain": [
       "      Price  Area Location  Bhk  Gym  Lift  Car  Security  Clubhouse  Garden  \\\n",
       "0   6200000   400   Airoli    1    0     1    1         1          0       0   \n",
       "1   9500000  1000   Airoli    2    0     1    1         1          1       0   \n",
       "2  14900000  1245   Airoli    2    0     1    1         0          0       0   \n",
       "3  14000000  1183   Airoli    2    1     1    1         1          1       1   \n",
       "4  14800000  1245   Airoli    2    0     1    1         1          0       0   \n",
       "\n",
       "   Pool  PricePerSqft  \n",
       "0     0  15500.000000  \n",
       "1     1   9500.000000  \n",
       "2     0  11967.871486  \n",
       "3     1  11834.319527  \n",
       "4     0  11887.550201  "
      ]
     },
     "execution_count": 30,
     "metadata": {},
     "output_type": "execute_result"
    }
   ],
   "source": [
    "df8.head()"
   ]
  },
  {
   "cell_type": "code",
   "execution_count": 31,
   "metadata": {},
   "outputs": [
    {
     "data": {
      "text/plain": [
       "Text(0, 0.5, 'Count')"
      ]
     },
     "execution_count": 31,
     "metadata": {},
     "output_type": "execute_result"
    },
    {
     "data": {
      "image/png": "[encoded data removed]",
      "text/plain": [
       "<Figure size 1440x720 with 1 Axes>"
      ]
     },
     "metadata": {
      "needs_background": "light"
     },
     "output_type": "display_data"
    }
   ],
   "source": [
    "plt.hist(df8.Bhk,rwidth=0.7)\n",
    "plt.xlabel(\"Number of Bedrooms\")\n",
    "plt.ylabel(\"Count\")"
   ]
  },
  {
   "cell_type": "code",
   "execution_count": 32,
   "metadata": {},
   "outputs": [
    {
     "data": {
      "text/html": [
       "<div>\n",
       "<style scoped>\n",
       "    .dataframe tbody tr th:only-of-type {\n",
       "        vertical-align: middle;\n",
       "    }\n",
       "\n",
       "    .dataframe tbody tr th {\n",
       "        vertical-align: top;\n",
       "    }\n",
       "\n",
       "    .dataframe thead th {\n",
       "        text-align: right;\n",
       "    }\n",
       "</style>\n",
       "<table border=\"1\" class=\"dataframe\">\n",
       "  <thead>\n",
       "    <tr style=\"text-align: right;\">\n",
       "      <th></th>\n",
       "      <th>Airoli</th>\n",
       "      <th>Ambernath East</th>\n",
       "      <th>Ambernath West</th>\n",
       "      <th>Andheri</th>\n",
       "      <th>Andheri East</th>\n",
       "      <th>Andheri West</th>\n",
       "      <th>Badlapur</th>\n",
       "      <th>Badlapur East</th>\n",
       "      <th>Badlapur West</th>\n",
       "      <th>Bandra East</th>\n",
       "      <th>...</th>\n",
       "      <th>Wadala</th>\n",
       "      <th>Wadala East Wadala</th>\n",
       "      <th>Worli</th>\n",
       "      <th>kandivali</th>\n",
       "      <th>kavesar</th>\n",
       "      <th>matunga east</th>\n",
       "      <th>mumbai</th>\n",
       "      <th>other</th>\n",
       "      <th>taloja panchanand</th>\n",
       "      <th>vile parle west</th>\n",
       "    </tr>\n",
       "  </thead>\n",
       "  <tbody>\n",
       "    <tr>\n",
       "      <th>0</th>\n",
       "      <td>1</td>\n",
       "      <td>0</td>\n",
       "      <td>0</td>\n",
       "      <td>0</td>\n",
       "      <td>0</td>\n",
       "      <td>0</td>\n",
       "      <td>0</td>\n",
       "      <td>0</td>\n",
       "      <td>0</td>\n",
       "      <td>0</td>\n",
       "      <td>...</td>\n",
       "      <td>0</td>\n",
       "      <td>0</td>\n",
       "      <td>0</td>\n",
       "      <td>0</td>\n",
       "      <td>0</td>\n",
       "      <td>0</td>\n",
       "      <td>0</td>\n",
       "      <td>0</td>\n",
       "      <td>0</td>\n",
       "      <td>0</td>\n",
       "    </tr>\n",
       "    <tr>\n",
       "      <th>1</th>\n",
       "      <td>1</td>\n",
       "      <td>0</td>\n",
       "      <td>0</td>\n",
       "      <td>0</td>\n",
       "      <td>0</td>\n",
       "      <td>0</td>\n",
       "      <td>0</td>\n",
       "      <td>0</td>\n",
       "      <td>0</td>\n",
       "      <td>0</td>\n",
       "      <td>...</td>\n",
       "      <td>0</td>\n",
       "      <td>0</td>\n",
       "      <td>0</td>\n",
       "      <td>0</td>\n",
       "      <td>0</td>\n",
       "      <td>0</td>\n",
       "      <td>0</td>\n",
       "      <td>0</td>\n",
       "      <td>0</td>\n",
       "      <td>0</td>\n",
       "    </tr>\n",
       "    <tr>\n",
       "      <th>2</th>\n",
       "      <td>1</td>\n",
       "      <td>0</td>\n",
       "      <td>0</td>\n",
       "      <td>0</td>\n",
       "      <td>0</td>\n",
       "      <td>0</td>\n",
       "      <td>0</td>\n",
       "      <td>0</td>\n",
       "      <td>0</td>\n",
       "      <td>0</td>\n",
       "      <td>...</td>\n",
       "      <td>0</td>\n",
       "      <td>0</td>\n",
       "      <td>0</td>\n",
       "      <td>0</td>\n",
       "      <td>0</td>\n",
       "      <td>0</td>\n",
       "      <td>0</td>\n",
       "      <td>0</td>\n",
       "      <td>0</td>\n",
       "      <td>0</td>\n",
       "    </tr>\n",
       "    <tr>\n",
       "      <th>3</th>\n",
       "      <td>1</td>\n",
       "      <td>0</td>\n",
       "      <td>0</td>\n",
       "      <td>0</td>\n",
       "      <td>0</td>\n",
       "      <td>0</td>\n",
       "      <td>0</td>\n",
       "      <td>0</td>\n",
       "      <td>0</td>\n",
       "      <td>0</td>\n",
       "      <td>...</td>\n",
       "      <td>0</td>\n",
       "      <td>0</td>\n",
       "      <td>0</td>\n",
       "      <td>0</td>\n",
       "      <td>0</td>\n",
       "      <td>0</td>\n",
       "      <td>0</td>\n",
       "      <td>0</td>\n",
       "      <td>0</td>\n",
       "      <td>0</td>\n",
       "    </tr>\n",
       "    <tr>\n",
       "      <th>4</th>\n",
       "      <td>1</td>\n",
       "      <td>0</td>\n",
       "      <td>0</td>\n",
       "      <td>0</td>\n",
       "      <td>0</td>\n",
       "      <td>0</td>\n",
       "      <td>0</td>\n",
       "      <td>0</td>\n",
       "      <td>0</td>\n",
       "      <td>0</td>\n",
       "      <td>...</td>\n",
       "      <td>0</td>\n",
       "      <td>0</td>\n",
       "      <td>0</td>\n",
       "      <td>0</td>\n",
       "      <td>0</td>\n",
       "      <td>0</td>\n",
       "      <td>0</td>\n",
       "      <td>0</td>\n",
       "      <td>0</td>\n",
       "      <td>0</td>\n",
       "    </tr>\n",
       "  </tbody>\n",
       "</table>\n",
       "<p>5 rows × 130 columns</p>\n",
       "</div>"
      ],
      "text/plain": [
       "   Airoli  Ambernath East  Ambernath West  Andheri  Andheri East  \\\n",
       "0       1               0               0        0             0   \n",
       "1       1               0               0        0             0   \n",
       "2       1               0               0        0             0   \n",
       "3       1               0               0        0             0   \n",
       "4       1               0               0        0             0   \n",
       "\n",
       "   Andheri West  Badlapur  Badlapur East  Badlapur West  Bandra East  ...  \\\n",
       "0             0         0              0              0            0  ...   \n",
       "1             0         0              0              0            0  ...   \n",
       "2             0         0              0              0            0  ...   \n",
       "3             0         0              0              0            0  ...   \n",
       "4             0         0              0              0            0  ...   \n",
       "\n",
       "   Wadala  Wadala East Wadala  Worli  kandivali  kavesar  matunga east  \\\n",
       "0       0                   0      0          0        0             0   \n",
       "1       0                   0      0          0        0             0   \n",
       "2       0                   0      0          0        0             0   \n",
       "3       0                   0      0          0        0             0   \n",
       "4       0                   0      0          0        0             0   \n",
       "\n",
       "   mumbai  other  taloja panchanand  vile parle west  \n",
       "0       0      0                  0                0  \n",
       "1       0      0                  0                0  \n",
       "2       0      0                  0                0  \n",
       "3       0      0                  0                0  \n",
       "4       0      0                  0                0  \n",
       "\n",
       "[5 rows x 130 columns]"
      ]
     },
     "execution_count": 32,
     "metadata": {},
     "output_type": "execute_result"
    }
   ],
   "source": [
    "dummies = pd.get_dummies(df8.Location)\n",
    "dummies.head()"
   ]
  },
  {
   "cell_type": "code",
   "execution_count": 33,
   "metadata": {},
   "outputs": [
    {
     "data": {
      "text/plain": [
       "array(['Airoli', 'Ambernath East', 'Ambernath West', 'Andheri',\n",
       "       'Andheri East', 'Andheri West', 'Badlapur', 'Badlapur East',\n",
       "       'Badlapur West', 'Bandra East', 'Bandra West', 'Belapur',\n",
       "       'Bhandup West', 'Bhayandar East', 'Bhiwandi', 'Boisar',\n",
       "       'Borivali East', 'Borivali West', 'Chembur', 'Chembur East',\n",
       "       'Dahisar', 'Dahisar East', 'Dahisar West', 'Dattapada',\n",
       "       'Dombivali', 'Dombivali East', 'Dombivli (West)', 'Dronagiri',\n",
       "       'Ghansoli', 'Ghatkopar', 'Ghatkopar East', 'Ghatkopar West',\n",
       "       'Goregaon', 'Goregaon East', 'Goregaon West',\n",
       "       'Hiranandani Estates', 'Jogeshwari East', 'Jogeshwari West',\n",
       "       'Juhu', 'Kalamboli', 'Kalwa', 'Kalyan East', 'Kalyan West',\n",
       "       'Kamothe', 'Kandivali East', 'Kandivali West', 'Kanjurmarg',\n",
       "       'Karanjade', 'Karjat', 'Kewale', 'Khar', 'Khar West', 'Kharghar',\n",
       "       'Kolshet Road', 'Koparkhairane Station Road', 'Koper Khairane',\n",
       "       'Koproli', 'Kurla', 'Kurla West', 'Lower Parel', 'Magathane',\n",
       "       'Majiwada', 'Malad East', 'Malad West', 'Matunga',\n",
       "       'Mira Road East', 'Mira Road and Beyond', 'Mulund', 'Mulund East',\n",
       "       'Mulund West', 'Naigaon East', 'Nala Sopara', 'Nalasopara East',\n",
       "       'Nalasopara West', 'Navi Basti', 'Nerul', 'PARSIK NAGAR', 'Palava',\n",
       "       'Palghar', 'Panvel', 'Parel', 'Powai', 'Prabhadevi',\n",
       "       'Rajendra Nagar', 'Sainath Nagar', 'Sanpada', 'Santacruz East',\n",
       "       'Santacruz West', 'Seawoods', 'Sector 10', 'Sector 17 Ulwe',\n",
       "       'Sector 18 Kharghar', 'Sector 19 Kharghar', 'Sector 20 Kharghar',\n",
       "       'Sector 21 Kamothe', 'Sector 22 Kamothe', 'Sector-18 Ulwe',\n",
       "       'Sector-3 Ulwe', 'Sector-8 Ulwe', 'Sector12 Kamothe',\n",
       "       'Sector9 Kamothe', 'Shil Phata', 'Sion', 'Taloja',\n",
       "       'Thakur Village', 'Thane', 'Thane West', 'Titwala', 'Ulwe',\n",
       "       'Vasai', 'Vasai West', 'Vasai east', 'Vasant Vihar', 'Vashi',\n",
       "       'Vikhroli', 'Ville Parle East', 'Ville Parle West', 'Virar',\n",
       "       'Virar East', 'Virar West', 'Wadala', 'Wadala East Wadala',\n",
       "       'Worli', 'kandivali', 'kavesar', 'matunga east', 'mumbai', 'other',\n",
       "       'taloja panchanand', 'vile parle west'], dtype=object)"
      ]
     },
     "execution_count": 33,
     "metadata": {},
     "output_type": "execute_result"
    }
   ],
   "source": [
    "df8.Location.unique()"
   ]
  },
  {
   "cell_type": "code",
   "execution_count": 34,
   "metadata": {},
   "outputs": [
    {
     "data": {
      "text/html": [
       "<div>\n",
       "<style scoped>\n",
       "    .dataframe tbody tr th:only-of-type {\n",
       "        vertical-align: middle;\n",
       "    }\n",
       "\n",
       "    .dataframe tbody tr th {\n",
       "        vertical-align: top;\n",
       "    }\n",
       "\n",
       "    .dataframe thead th {\n",
       "        text-align: right;\n",
       "    }\n",
       "</style>\n",
       "<table border=\"1\" class=\"dataframe\">\n",
       "  <thead>\n",
       "    <tr style=\"text-align: right;\">\n",
       "      <th></th>\n",
       "      <th>Price</th>\n",
       "      <th>Area</th>\n",
       "      <th>Location</th>\n",
       "      <th>Bhk</th>\n",
       "      <th>Gym</th>\n",
       "      <th>Lift</th>\n",
       "      <th>Car</th>\n",
       "      <th>Security</th>\n",
       "      <th>Clubhouse</th>\n",
       "      <th>Garden</th>\n",
       "      <th>...</th>\n",
       "      <th>Virar West</th>\n",
       "      <th>Wadala</th>\n",
       "      <th>Wadala East Wadala</th>\n",
       "      <th>Worli</th>\n",
       "      <th>kandivali</th>\n",
       "      <th>kavesar</th>\n",
       "      <th>matunga east</th>\n",
       "      <th>other</th>\n",
       "      <th>taloja panchanand</th>\n",
       "      <th>vile parle west</th>\n",
       "    </tr>\n",
       "  </thead>\n",
       "  <tbody>\n",
       "    <tr>\n",
       "      <th>0</th>\n",
       "      <td>6200000</td>\n",
       "      <td>400</td>\n",
       "      <td>Airoli</td>\n",
       "      <td>1</td>\n",
       "      <td>0</td>\n",
       "      <td>1</td>\n",
       "      <td>1</td>\n",
       "      <td>1</td>\n",
       "      <td>0</td>\n",
       "      <td>0</td>\n",
       "      <td>...</td>\n",
       "      <td>0</td>\n",
       "      <td>0</td>\n",
       "      <td>0</td>\n",
       "      <td>0</td>\n",
       "      <td>0</td>\n",
       "      <td>0</td>\n",
       "      <td>0</td>\n",
       "      <td>0</td>\n",
       "      <td>0</td>\n",
       "      <td>0</td>\n",
       "    </tr>\n",
       "    <tr>\n",
       "      <th>1</th>\n",
       "      <td>9500000</td>\n",
       "      <td>1000</td>\n",
       "      <td>Airoli</td>\n",
       "      <td>2</td>\n",
       "      <td>0</td>\n",
       "      <td>1</td>\n",
       "      <td>1</td>\n",
       "      <td>1</td>\n",
       "      <td>1</td>\n",
       "      <td>0</td>\n",
       "      <td>...</td>\n",
       "      <td>0</td>\n",
       "      <td>0</td>\n",
       "      <td>0</td>\n",
       "      <td>0</td>\n",
       "      <td>0</td>\n",
       "      <td>0</td>\n",
       "      <td>0</td>\n",
       "      <td>0</td>\n",
       "      <td>0</td>\n",
       "      <td>0</td>\n",
       "    </tr>\n",
       "    <tr>\n",
       "      <th>2</th>\n",
       "      <td>14900000</td>\n",
       "      <td>1245</td>\n",
       "      <td>Airoli</td>\n",
       "      <td>2</td>\n",
       "      <td>0</td>\n",
       "      <td>1</td>\n",
       "      <td>1</td>\n",
       "      <td>0</td>\n",
       "      <td>0</td>\n",
       "      <td>0</td>\n",
       "      <td>...</td>\n",
       "      <td>0</td>\n",
       "      <td>0</td>\n",
       "      <td>0</td>\n",
       "      <td>0</td>\n",
       "      <td>0</td>\n",
       "      <td>0</td>\n",
       "      <td>0</td>\n",
       "      <td>0</td>\n",
       "      <td>0</td>\n",
       "      <td>0</td>\n",
       "    </tr>\n",
       "    <tr>\n",
       "      <th>3</th>\n",
       "      <td>14000000</td>\n",
       "      <td>1183</td>\n",
       "      <td>Airoli</td>\n",
       "      <td>2</td>\n",
       "      <td>1</td>\n",
       "      <td>1</td>\n",
       "      <td>1</td>\n",
       "      <td>1</td>\n",
       "      <td>1</td>\n",
       "      <td>1</td>\n",
       "      <td>...</td>\n",
       "      <td>0</td>\n",
       "      <td>0</td>\n",
       "      <td>0</td>\n",
       "      <td>0</td>\n",
       "      <td>0</td>\n",
       "      <td>0</td>\n",
       "      <td>0</td>\n",
       "      <td>0</td>\n",
       "      <td>0</td>\n",
       "      <td>0</td>\n",
       "    </tr>\n",
       "    <tr>\n",
       "      <th>4</th>\n",
       "      <td>14800000</td>\n",
       "      <td>1245</td>\n",
       "      <td>Airoli</td>\n",
       "      <td>2</td>\n",
       "      <td>0</td>\n",
       "      <td>1</td>\n",
       "      <td>1</td>\n",
       "      <td>1</td>\n",
       "      <td>0</td>\n",
       "      <td>0</td>\n",
       "      <td>...</td>\n",
       "      <td>0</td>\n",
       "      <td>0</td>\n",
       "      <td>0</td>\n",
       "      <td>0</td>\n",
       "      <td>0</td>\n",
       "      <td>0</td>\n",
       "      <td>0</td>\n",
       "      <td>0</td>\n",
       "      <td>0</td>\n",
       "      <td>0</td>\n",
       "    </tr>\n",
       "  </tbody>\n",
       "</table>\n",
       "<p>5 rows × 141 columns</p>\n",
       "</div>"
      ],
      "text/plain": [
       "      Price  Area Location  Bhk  Gym  Lift  Car  Security  Clubhouse  Garden  \\\n",
       "0   6200000   400   Airoli    1    0     1    1         1          0       0   \n",
       "1   9500000  1000   Airoli    2    0     1    1         1          1       0   \n",
       "2  14900000  1245   Airoli    2    0     1    1         0          0       0   \n",
       "3  14000000  1183   Airoli    2    1     1    1         1          1       1   \n",
       "4  14800000  1245   Airoli    2    0     1    1         1          0       0   \n",
       "\n",
       "   ...  Virar West  Wadala  Wadala East Wadala  Worli  kandivali  kavesar  \\\n",
       "0  ...           0       0                   0      0          0        0   \n",
       "1  ...           0       0                   0      0          0        0   \n",
       "2  ...           0       0                   0      0          0        0   \n",
       "3  ...           0       0                   0      0          0        0   \n",
       "4  ...           0       0                   0      0          0        0   \n",
       "\n",
       "   matunga east  other  taloja panchanand  vile parle west  \n",
       "0             0      0                  0                0  \n",
       "1             0      0                  0                0  \n",
       "2             0      0                  0                0  \n",
       "3             0      0                  0                0  \n",
       "4             0      0                  0                0  \n",
       "\n",
       "[5 rows x 141 columns]"
      ]
     },
     "execution_count": 34,
     "metadata": {},
     "output_type": "execute_result"
    }
   ],
   "source": [
    "df9 = pd.concat([df8,dummies.drop('other', axis='columns')],axis='columns')\n",
    "df9 = pd.concat([df8,dummies.drop('mumbai', axis='columns')],axis='columns')\n",
    "df9.head()"
   ]
  },
  {
   "cell_type": "code",
   "execution_count": 35,
   "metadata": {},
   "outputs": [
    {
     "data": {
      "text/html": [
       "<div>\n",
       "<style scoped>\n",
       "    .dataframe tbody tr th:only-of-type {\n",
       "        vertical-align: middle;\n",
       "    }\n",
       "\n",
       "    .dataframe tbody tr th {\n",
       "        vertical-align: top;\n",
       "    }\n",
       "\n",
       "    .dataframe thead th {\n",
       "        text-align: right;\n",
       "    }\n",
       "</style>\n",
       "<table border=\"1\" class=\"dataframe\">\n",
       "  <thead>\n",
       "    <tr style=\"text-align: right;\">\n",
       "      <th></th>\n",
       "      <th>Price</th>\n",
       "      <th>Area</th>\n",
       "      <th>Bhk</th>\n",
       "      <th>Gym</th>\n",
       "      <th>Lift</th>\n",
       "      <th>Car</th>\n",
       "      <th>Security</th>\n",
       "      <th>Clubhouse</th>\n",
       "      <th>Garden</th>\n",
       "      <th>Pool</th>\n",
       "      <th>...</th>\n",
       "      <th>Virar West</th>\n",
       "      <th>Wadala</th>\n",
       "      <th>Wadala East Wadala</th>\n",
       "      <th>Worli</th>\n",
       "      <th>kandivali</th>\n",
       "      <th>kavesar</th>\n",
       "      <th>matunga east</th>\n",
       "      <th>other</th>\n",
       "      <th>taloja panchanand</th>\n",
       "      <th>vile parle west</th>\n",
       "    </tr>\n",
       "  </thead>\n",
       "  <tbody>\n",
       "    <tr>\n",
       "      <th>0</th>\n",
       "      <td>6200000</td>\n",
       "      <td>400</td>\n",
       "      <td>1</td>\n",
       "      <td>0</td>\n",
       "      <td>1</td>\n",
       "      <td>1</td>\n",
       "      <td>1</td>\n",
       "      <td>0</td>\n",
       "      <td>0</td>\n",
       "      <td>0</td>\n",
       "      <td>...</td>\n",
       "      <td>0</td>\n",
       "      <td>0</td>\n",
       "      <td>0</td>\n",
       "      <td>0</td>\n",
       "      <td>0</td>\n",
       "      <td>0</td>\n",
       "      <td>0</td>\n",
       "      <td>0</td>\n",
       "      <td>0</td>\n",
       "      <td>0</td>\n",
       "    </tr>\n",
       "    <tr>\n",
       "      <th>1</th>\n",
       "      <td>9500000</td>\n",
       "      <td>1000</td>\n",
       "      <td>2</td>\n",
       "      <td>0</td>\n",
       "      <td>1</td>\n",
       "      <td>1</td>\n",
       "      <td>1</td>\n",
       "      <td>1</td>\n",
       "      <td>0</td>\n",
       "      <td>1</td>\n",
       "      <td>...</td>\n",
       "      <td>0</td>\n",
       "      <td>0</td>\n",
       "      <td>0</td>\n",
       "      <td>0</td>\n",
       "      <td>0</td>\n",
       "      <td>0</td>\n",
       "      <td>0</td>\n",
       "      <td>0</td>\n",
       "      <td>0</td>\n",
       "      <td>0</td>\n",
       "    </tr>\n",
       "    <tr>\n",
       "      <th>2</th>\n",
       "      <td>14900000</td>\n",
       "      <td>1245</td>\n",
       "      <td>2</td>\n",
       "      <td>0</td>\n",
       "      <td>1</td>\n",
       "      <td>1</td>\n",
       "      <td>0</td>\n",
       "      <td>0</td>\n",
       "      <td>0</td>\n",
       "      <td>0</td>\n",
       "      <td>...</td>\n",
       "      <td>0</td>\n",
       "      <td>0</td>\n",
       "      <td>0</td>\n",
       "      <td>0</td>\n",
       "      <td>0</td>\n",
       "      <td>0</td>\n",
       "      <td>0</td>\n",
       "      <td>0</td>\n",
       "      <td>0</td>\n",
       "      <td>0</td>\n",
       "    </tr>\n",
       "  </tbody>\n",
       "</table>\n",
       "<p>3 rows × 140 columns</p>\n",
       "</div>"
      ],
      "text/plain": [
       "      Price  Area  Bhk  Gym  Lift  Car  Security  Clubhouse  Garden  Pool  \\\n",
       "0   6200000   400    1    0     1    1         1          0       0     0   \n",
       "1   9500000  1000    2    0     1    1         1          1       0     1   \n",
       "2  14900000  1245    2    0     1    1         0          0       0     0   \n",
       "\n",
       "   ...  Virar West  Wadala  Wadala East Wadala  Worli  kandivali  kavesar  \\\n",
       "0  ...           0       0                   0      0          0        0   \n",
       "1  ...           0       0                   0      0          0        0   \n",
       "2  ...           0       0                   0      0          0        0   \n",
       "\n",
       "   matunga east  other  taloja panchanand  vile parle west  \n",
       "0             0      0                  0                0  \n",
       "1             0      0                  0                0  \n",
       "2             0      0                  0                0  \n",
       "\n",
       "[3 rows x 140 columns]"
      ]
     },
     "execution_count": 35,
     "metadata": {},
     "output_type": "execute_result"
    }
   ],
   "source": [
    "df10 = df9.drop('Location',axis='columns')\n",
    "df10.head(3)"
   ]
  },
  {
   "cell_type": "code",
   "execution_count": 36,
   "metadata": {},
   "outputs": [
    {
     "data": {
      "text/plain": [
       "(4869, 140)"
      ]
     },
     "execution_count": 36,
     "metadata": {},
     "output_type": "execute_result"
    }
   ],
   "source": [
    "df10.shape"
   ]
  },
  {
   "cell_type": "code",
   "execution_count": 37,
   "metadata": {},
   "outputs": [],
   "source": [
    "df10.to_csv('mhpp1.csv')"
   ]
  },
  {
   "cell_type": "code",
   "execution_count": 38,
   "metadata": {},
   "outputs": [
    {
     "data": {
      "text/html": [
       "<div>\n",
       "<style scoped>\n",
       "    .dataframe tbody tr th:only-of-type {\n",
       "        vertical-align: middle;\n",
       "    }\n",
       "\n",
       "    .dataframe tbody tr th {\n",
       "        vertical-align: top;\n",
       "    }\n",
       "\n",
       "    .dataframe thead th {\n",
       "        text-align: right;\n",
       "    }\n",
       "</style>\n",
       "<table border=\"1\" class=\"dataframe\">\n",
       "  <thead>\n",
       "    <tr style=\"text-align: right;\">\n",
       "      <th></th>\n",
       "      <th>Area</th>\n",
       "      <th>Bhk</th>\n",
       "      <th>Gym</th>\n",
       "      <th>Lift</th>\n",
       "      <th>Car</th>\n",
       "      <th>Security</th>\n",
       "      <th>Clubhouse</th>\n",
       "      <th>Garden</th>\n",
       "      <th>Pool</th>\n",
       "      <th>PricePerSqft</th>\n",
       "      <th>...</th>\n",
       "      <th>Virar West</th>\n",
       "      <th>Wadala</th>\n",
       "      <th>Wadala East Wadala</th>\n",
       "      <th>Worli</th>\n",
       "      <th>kandivali</th>\n",
       "      <th>kavesar</th>\n",
       "      <th>matunga east</th>\n",
       "      <th>other</th>\n",
       "      <th>taloja panchanand</th>\n",
       "      <th>vile parle west</th>\n",
       "    </tr>\n",
       "  </thead>\n",
       "  <tbody>\n",
       "    <tr>\n",
       "      <th>0</th>\n",
       "      <td>400</td>\n",
       "      <td>1</td>\n",
       "      <td>0</td>\n",
       "      <td>1</td>\n",
       "      <td>1</td>\n",
       "      <td>1</td>\n",
       "      <td>0</td>\n",
       "      <td>0</td>\n",
       "      <td>0</td>\n",
       "      <td>15500.000000</td>\n",
       "      <td>...</td>\n",
       "      <td>0</td>\n",
       "      <td>0</td>\n",
       "      <td>0</td>\n",
       "      <td>0</td>\n",
       "      <td>0</td>\n",
       "      <td>0</td>\n",
       "      <td>0</td>\n",
       "      <td>0</td>\n",
       "      <td>0</td>\n",
       "      <td>0</td>\n",
       "    </tr>\n",
       "    <tr>\n",
       "      <th>1</th>\n",
       "      <td>1000</td>\n",
       "      <td>2</td>\n",
       "      <td>0</td>\n",
       "      <td>1</td>\n",
       "      <td>1</td>\n",
       "      <td>1</td>\n",
       "      <td>1</td>\n",
       "      <td>0</td>\n",
       "      <td>1</td>\n",
       "      <td>9500.000000</td>\n",
       "      <td>...</td>\n",
       "      <td>0</td>\n",
       "      <td>0</td>\n",
       "      <td>0</td>\n",
       "      <td>0</td>\n",
       "      <td>0</td>\n",
       "      <td>0</td>\n",
       "      <td>0</td>\n",
       "      <td>0</td>\n",
       "      <td>0</td>\n",
       "      <td>0</td>\n",
       "    </tr>\n",
       "    <tr>\n",
       "      <th>2</th>\n",
       "      <td>1245</td>\n",
       "      <td>2</td>\n",
       "      <td>0</td>\n",
       "      <td>1</td>\n",
       "      <td>1</td>\n",
       "      <td>0</td>\n",
       "      <td>0</td>\n",
       "      <td>0</td>\n",
       "      <td>0</td>\n",
       "      <td>11967.871486</td>\n",
       "      <td>...</td>\n",
       "      <td>0</td>\n",
       "      <td>0</td>\n",
       "      <td>0</td>\n",
       "      <td>0</td>\n",
       "      <td>0</td>\n",
       "      <td>0</td>\n",
       "      <td>0</td>\n",
       "      <td>0</td>\n",
       "      <td>0</td>\n",
       "      <td>0</td>\n",
       "    </tr>\n",
       "    <tr>\n",
       "      <th>3</th>\n",
       "      <td>1183</td>\n",
       "      <td>2</td>\n",
       "      <td>1</td>\n",
       "      <td>1</td>\n",
       "      <td>1</td>\n",
       "      <td>1</td>\n",
       "      <td>1</td>\n",
       "      <td>1</td>\n",
       "      <td>1</td>\n",
       "      <td>11834.319527</td>\n",
       "      <td>...</td>\n",
       "      <td>0</td>\n",
       "      <td>0</td>\n",
       "      <td>0</td>\n",
       "      <td>0</td>\n",
       "      <td>0</td>\n",
       "      <td>0</td>\n",
       "      <td>0</td>\n",
       "      <td>0</td>\n",
       "      <td>0</td>\n",
       "      <td>0</td>\n",
       "    </tr>\n",
       "    <tr>\n",
       "      <th>4</th>\n",
       "      <td>1245</td>\n",
       "      <td>2</td>\n",
       "      <td>0</td>\n",
       "      <td>1</td>\n",
       "      <td>1</td>\n",
       "      <td>1</td>\n",
       "      <td>0</td>\n",
       "      <td>0</td>\n",
       "      <td>0</td>\n",
       "      <td>11887.550201</td>\n",
       "      <td>...</td>\n",
       "      <td>0</td>\n",
       "      <td>0</td>\n",
       "      <td>0</td>\n",
       "      <td>0</td>\n",
       "      <td>0</td>\n",
       "      <td>0</td>\n",
       "      <td>0</td>\n",
       "      <td>0</td>\n",
       "      <td>0</td>\n",
       "      <td>0</td>\n",
       "    </tr>\n",
       "  </tbody>\n",
       "</table>\n",
       "<p>5 rows × 139 columns</p>\n",
       "</div>"
      ],
      "text/plain": [
       "   Area  Bhk  Gym  Lift  Car  Security  Clubhouse  Garden  Pool  PricePerSqft  \\\n",
       "0   400    1    0     1    1         1          0       0     0  15500.000000   \n",
       "1  1000    2    0     1    1         1          1       0     1   9500.000000   \n",
       "2  1245    2    0     1    1         0          0       0     0  11967.871486   \n",
       "3  1183    2    1     1    1         1          1       1     1  11834.319527   \n",
       "4  1245    2    0     1    1         1          0       0     0  11887.550201   \n",
       "\n",
       "   ...  Virar West  Wadala  Wadala East Wadala  Worli  kandivali  kavesar  \\\n",
       "0  ...           0       0                   0      0          0        0   \n",
       "1  ...           0       0                   0      0          0        0   \n",
       "2  ...           0       0                   0      0          0        0   \n",
       "3  ...           0       0                   0      0          0        0   \n",
       "4  ...           0       0                   0      0          0        0   \n",
       "\n",
       "   matunga east  other  taloja panchanand  vile parle west  \n",
       "0             0      0                  0                0  \n",
       "1             0      0                  0                0  \n",
       "2             0      0                  0                0  \n",
       "3             0      0                  0                0  \n",
       "4             0      0                  0                0  \n",
       "\n",
       "[5 rows x 139 columns]"
      ]
     },
     "execution_count": 38,
     "metadata": {},
     "output_type": "execute_result"
    }
   ],
   "source": [
    "X = df10.drop('Price',axis='columns')\n",
    "X.head()"
   ]
  },
  {
   "cell_type": "code",
   "execution_count": 39,
   "metadata": {},
   "outputs": [
    {
     "data": {
      "text/plain": [
       "0     62.0\n",
       "1     95.0\n",
       "2    149.0\n",
       "3    140.0\n",
       "4    148.0\n",
       "Name: Price, dtype: float64"
      ]
     },
     "execution_count": 39,
     "metadata": {},
     "output_type": "execute_result"
    }
   ],
   "source": [
    "Y1 = df10.Price\n",
    "y = Y1/100000\n",
    "y.head()"
   ]
  },
  {
   "cell_type": "code",
   "execution_count": 40,
   "metadata": {},
   "outputs": [
    {
     "data": {
      "text/plain": [
       "(4869, 139)"
      ]
     },
     "execution_count": 40,
     "metadata": {},
     "output_type": "execute_result"
    }
   ],
   "source": [
    "X.shape"
   ]
  },
  {
   "cell_type": "code",
   "execution_count": 41,
   "metadata": {},
   "outputs": [
    {
     "data": {
      "text/plain": [
       "4869"
      ]
     },
     "execution_count": 41,
     "metadata": {},
     "output_type": "execute_result"
    }
   ],
   "source": [
    "len(y)"
   ]
  },
  {
   "cell_type": "code",
   "execution_count": 42,
   "metadata": {},
   "outputs": [],
   "source": [
    "from sklearn.model_selection import train_test_split\n",
    "X_train, X_test, y_train, y_test = train_test_split(X,y,test_size=0.2,random_state=10)"
   ]
  },
  {
   "cell_type": "code",
   "execution_count": 43,
   "metadata": {},
   "outputs": [
    {
     "data": {
      "text/plain": [
       "0.8993362950662612"
      ]
     },
     "execution_count": 43,
     "metadata": {},
     "output_type": "execute_result"
    }
   ],
   "source": [
    "from sklearn.linear_model import LinearRegression\n",
    "lr_clf = LinearRegression()\n",
    "lr_clf.fit(X_train,y_train)\n",
    "lr_clf.score(X_test,y_test)"
   ]
  },
  {
   "cell_type": "code",
   "execution_count": 44,
   "metadata": {},
   "outputs": [
    {
     "data": {
      "text/plain": [
       "array([0.90066914, 0.88317331, 0.89466193, 0.91861699, 0.90760563])"
      ]
     },
     "execution_count": 44,
     "metadata": {},
     "output_type": "execute_result"
    }
   ],
   "source": [
    "from sklearn.model_selection import ShuffleSplit\n",
    "from sklearn.model_selection import cross_val_score\n",
    "\n",
    "cv = ShuffleSplit(n_splits=5, test_size=0.2, random_state=0)\n",
    "\n",
    "cross_val_score(LinearRegression(), X, y, cv=cv)"
   ]
  },
  {
   "cell_type": "code",
   "execution_count": 45,
   "metadata": {},
   "outputs": [
    {
     "data": {
      "text/html": [
       "<div>\n",
       "<style scoped>\n",
       "    .dataframe tbody tr th:only-of-type {\n",
       "        vertical-align: middle;\n",
       "    }\n",
       "\n",
       "    .dataframe tbody tr th {\n",
       "        vertical-align: top;\n",
       "    }\n",
       "\n",
       "    .dataframe thead th {\n",
       "        text-align: right;\n",
       "    }\n",
       "</style>\n",
       "<table border=\"1\" class=\"dataframe\">\n",
       "  <thead>\n",
       "    <tr style=\"text-align: right;\">\n",
       "      <th></th>\n",
       "      <th>model</th>\n",
       "      <th>best_score</th>\n",
       "      <th>best_params</th>\n",
       "    </tr>\n",
       "  </thead>\n",
       "  <tbody>\n",
       "    <tr>\n",
       "      <th>0</th>\n",
       "      <td>linear_regression</td>\n",
       "      <td>0.900945</td>\n",
       "      <td>{'normalize': True}</td>\n",
       "    </tr>\n",
       "    <tr>\n",
       "      <th>1</th>\n",
       "      <td>lasso</td>\n",
       "      <td>0.890001</td>\n",
       "      <td>{'alpha': 1, 'selection': 'cyclic'}</td>\n",
       "    </tr>\n",
       "    <tr>\n",
       "      <th>2</th>\n",
       "      <td>decision_tree</td>\n",
       "      <td>0.970647</td>\n",
       "      <td>{'criterion': 'mse', 'splitter': 'best'}</td>\n",
       "    </tr>\n",
       "  </tbody>\n",
       "</table>\n",
       "</div>"
      ],
      "text/plain": [
       "               model  best_score                               best_params\n",
       "0  linear_regression    0.900945                       {'normalize': True}\n",
       "1              lasso    0.890001       {'alpha': 1, 'selection': 'cyclic'}\n",
       "2      decision_tree    0.970647  {'criterion': 'mse', 'splitter': 'best'}"
      ]
     },
     "execution_count": 45,
     "metadata": {},
     "output_type": "execute_result"
    }
   ],
   "source": [
    "from sklearn.model_selection import GridSearchCV\n",
    "\n",
    "from sklearn.linear_model import Lasso\n",
    "from sklearn.tree import DecisionTreeRegressor\n",
    "\n",
    "def find_best_model_using_gridsearchcv(X,y):\n",
    "    algos = {\n",
    "        'linear_regression' : {\n",
    "            'model': LinearRegression(),\n",
    "            'params': {\n",
    "                'normalize': [True, False]\n",
    "            }\n",
    "        },\n",
    "        'lasso': {\n",
    "            'model': Lasso(),\n",
    "            'params': {\n",
    "                'alpha': [1,2],\n",
    "                'selection': ['random', 'cyclic']\n",
    "            }\n",
    "        },\n",
    "        'decision_tree': {\n",
    "            'model': DecisionTreeRegressor(),\n",
    "            'params': {\n",
    "                'criterion' : ['mse','friedman_mse'],\n",
    "                'splitter': ['best','random']\n",
    "            }\n",
    "        }\n",
    "    }\n",
    "    scores = []\n",
    "    cv = ShuffleSplit(n_splits=5, test_size=0.2, random_state=0)\n",
    "    for algo_name, config in algos.items():\n",
    "        gs =  GridSearchCV(config['model'], config['params'], cv=cv, return_train_score=False)\n",
    "        gs.fit(X,y)\n",
    "        scores.append({\n",
    "            'model': algo_name,\n",
    "            'best_score': gs.best_score_,\n",
    "            'best_params': gs.best_params_\n",
    "        })\n",
    "\n",
    "    return pd.DataFrame(scores,columns=['model','best_score','best_params'])\n",
    "\n",
    "find_best_model_using_gridsearchcv(X,y)"
   ]
  },
  {
   "cell_type": "code",
   "execution_count": 46,
   "metadata": {},
   "outputs": [
    {
     "data": {
      "text/plain": [
       "0.8648294049490252"
      ]
     },
     "execution_count": 46,
     "metadata": {},
     "output_type": "execute_result"
    }
   ],
   "source": [
    "model = DecisionTreeRegressor(criterion = 'friedman_mse', splitter=\"random\")\n",
    "model.fit(X_train,y_train)\n",
    "model.score(X_test,y_test)"
   ]
  },
  {
   "cell_type": "code",
   "execution_count": 47,
   "metadata": {},
   "outputs": [],
   "source": [
    "def predict_price1(Location,Area,Bhk,Gym,Lift,Car,Security,Garden,Pool,Clubhouse):\n",
    "    loc_index = np.where(X.columns==Location)[0][0]\n",
    "    \n",
    "    x = np.zeros(len(X.columns))\n",
    "    x[0] = Area\n",
    "    x[1] = Bhk\n",
    "    x[2] = Gym\n",
    "    x[3] = Lift\n",
    "    x[4] = Car\n",
    "    x[5] = Security\n",
    "    x[6] = Garden\n",
    "    x[7] = Pool\n",
    "    x[8] = Clubhouse\n",
    "\n",
    "    if loc_index >=0:\n",
    "        x[loc_index] = 1\n",
    "\n",
    "    return model.predict([x])[0]"
   ]
  },
  {
   "cell_type": "code",
   "execution_count": 48,
   "metadata": {},
   "outputs": [
    {
     "data": {
      "text/plain": [
       "11800000.0"
      ]
     },
     "execution_count": 48,
     "metadata": {},
     "output_type": "execute_result"
    }
   ],
   "source": [
    "nor_price = predict_price1('Thane',3000,2,0,1,1,1,0,1,1)*100000\n",
    "nor_price"
   ]
  },
  {
   "cell_type": "code",
   "execution_count": 49,
   "metadata": {},
   "outputs": [],
   "source": [
    "import pickle"
   ]
  },
  {
   "cell_type": "code",
   "execution_count": 50,
   "metadata": {},
   "outputs": [],
   "source": [
    "y_pred = model.predict(X_test)"
   ]
  },
  {
   "cell_type": "code",
   "execution_count": 51,
   "metadata": {},
   "outputs": [
    {
     "data": {
      "text/plain": [
       "<matplotlib.collections.PathCollection at 0x1f28b37fee0>"
      ]
     },
     "execution_count": 51,
     "metadata": {},
     "output_type": "execute_result"
    },
    {
     "data": {
      "image/png": "[encoded data removed]",
      "text/plain": [
       "<Figure size 1440x720 with 1 Axes>"
      ]
     },
     "metadata": {
      "needs_background": "light"
     },
     "output_type": "display_data"
    }
   ],
   "source": [
    "plt.scatter(y_test,y_pred)"
   ]
  },
  {
   "cell_type": "code",
   "execution_count": 52,
   "metadata": {},
   "outputs": [],
   "source": [
    "pickle.dump(model, open('mumbai_house_prices_prediction.pickle','wb'))"
   ]
  },
  {
   "cell_type": "code",
   "execution_count": 53,
   "metadata": {},
   "outputs": [],
   "source": [
    "def predict_house_price(Location,Area,Bhk,Gym,Lift,Car,Security,Garden,Pool,Clubhouse):\n",
    "    loc_index = np.where(X.columns==Location)[0][0]\n",
    "    \n",
    "    x = np.zeros(len(X.columns))\n",
    "    x[0] = Area\n",
    "    x[1] = Bhk\n",
    "    x[2] = Gym\n",
    "    x[3] = Lift\n",
    "    x[4] = Car\n",
    "    x[5] = Security\n",
    "    x[6] = Garden\n",
    "    x[7] = Pool\n",
    "    x[8] = Clubhouse\n",
    "\n",
    "    if loc_index >=0:\n",
    "        x[loc_index] = 1\n",
    "        \n",
    "    model1 = pickle.load(open('mumbai_house_prices_prediction.pickle','rb'))\n",
    "\n",
    "    return model1.predict([x])[0]"
   ]
  },
  {
   "cell_type": "code",
   "execution_count": 54,
   "metadata": {},
   "outputs": [
    {
     "name": "stdout",
     "output_type": "stream",
     "text": [
      "₹ 3100000.0\n",
      "₹ 31.0 lakhs\n"
     ]
    }
   ],
   "source": [
    "print('₹',predict_house_price('Thane',1000,2,0,1,1,1,0,1,1)*100000)\n",
    "print('₹',predict_house_price('Thane',1000,2,0,1,1,1,0,1,1),'lakhs')"
   ]
  },
  {
   "cell_type": "code",
   "execution_count": 55,
   "metadata": {},
   "outputs": [],
   "source": [
    "import json\n",
    "columns={'data_column' :[col.lower() for col in X.columns]\n",
    "         }\n",
    "with open(\"columns.json\",\"w\") as f:\n",
    "    f.write(json.dumps(columns))"
   ]
  },
  {
   "cell_type": "code",
   "execution_count": null,
   "metadata": {},
   "outputs": [],
   "source": []
  }
 ],
 "metadata": {
  "kernelspec": {
   "display_name": "Python 3",
   "language": "python",
   "name": "python3"
  },
  "language_info": {
   "codemirror_mode": {
    "name": "ipython",
    "version": 3
   },
   "file_extension": ".py",
   "mimetype": "text/x-python",
   "name": "python",
   "nbconvert_exporter": "python",
   "pygments_lexer": "ipython3",
   "version": "3.8.5"
  }
 },
 "nbformat": 4,
 "nbformat_minor": 4
}
